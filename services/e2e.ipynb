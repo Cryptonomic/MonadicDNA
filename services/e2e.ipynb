{
 "cells": [
  {
   "cell_type": "markdown",
   "metadata": {
    "id": "JaUba7vsukRz"
   },
   "source": [
    "This workbook represent an end to end test of the Nillion network. It will test the following:\n",
    "1. A user (patient) uploading their data in encrypted form and providing access to Monadic\n",
    "2. Monadic giving compute access to Snipper, a third party\n",
    "3. Snipper registering a program and running in on the patient's encrypted data\n",
    "\n",
    "Before running this workbook, ensure Nillion Devnet is running. "
   ]
  },
  {
   "cell_type": "markdown",
   "metadata": {},
   "source": [
    "Install all Python prerequisites. "
   ]
  },
  {
   "cell_type": "code",
   "execution_count": null,
   "metadata": {
    "ExecuteTime": {
     "end_time": "2024-08-09T19:26:51.222994Z",
     "start_time": "2024-08-09T19:26:43.883908Z"
    },
    "colab": {
     "base_uri": "https://localhost:8080/"
    },
    "id": "JAGtpt87u119",
    "outputId": "2d8deba3-069f-4449-df93-f58ba31841f5"
   },
   "outputs": [],
   "source": [
    "%pip install nada-dsl==0.6.0\n",
    "%pip install py-nillion-client==0.6.0\n",
    "%pip install nillion-python-helpers==0.2.3\n",
    "%pip install python-dotenv==1.0.0\n"
   ]
  },
  {
   "cell_type": "markdown",
   "metadata": {},
   "source": [
    "Import all necessary libraries"
   ]
  },
  {
   "cell_type": "code",
   "execution_count": 2,
   "metadata": {
    "ExecuteTime": {
     "end_time": "2024-08-09T23:28:05.762189Z",
     "start_time": "2024-08-09T23:28:05.723159Z"
    },
    "id": "EQCfD717Sb-M"
   },
   "outputs": [],
   "source": [
    "import py_nillion_client as nillion\n",
    "from py_nillion_client import NodeKey, UserKey\n",
    "from dotenv import load_dotenv\n",
    "from nillion_python_helpers import get_quote_and_pay, create_nillion_client, create_payments_config\n",
    "from cosmpy.aerial.client import LedgerClient\n",
    "from cosmpy.aerial.wallet import LocalWallet\n",
    "from cosmpy.crypto.keypairs import PrivateKey"
   ]
  },
  {
   "cell_type": "markdown",
   "metadata": {},
   "source": [
    "Load the environment variables from a Devnet .env file\n",
    "\n",
    "*Please make sure to replace the path with the correct path to your .env file*"
   ]
  },
  {
   "cell_type": "code",
   "execution_count": null,
   "metadata": {
    "ExecuteTime": {
     "end_time": "2024-08-09T23:28:08.870617Z",
     "start_time": "2024-08-09T23:28:08.850035Z"
    },
    "colab": {
     "base_uri": "https://localhost:8080/"
    },
    "id": "XWsJmklOEeh1",
    "outputId": "fff3de58-4f50-4e09-99f9-d7b6cdb943ed"
   },
   "outputs": [],
   "source": [
    "import os\n",
    "\n",
    "home_dir = os.path.expanduser(\"~\")\n",
    "env_path = os.path.join(home_dir, \".config\", \"nillion\", \"nillion-devnet.env\")\n",
    "\n",
    "print(f\"Loading environment variables from {env_path}\")\n",
    "\n",
    "load_dotenv(env_path)\n",
    "\n",
    "for key, value in os.environ.items():\n",
    "    if key.startswith(\"NILLION_\"):\n",
    "        print(f\"{key}: {value}\")"
   ]
  },
  {
   "cell_type": "markdown",
   "metadata": {},
   "source": [
    "Read in some basic Nillion network information from the environment. "
   ]
  },
  {
   "cell_type": "code",
   "execution_count": null,
   "metadata": {
    "ExecuteTime": {
     "end_time": "2024-08-09T23:28:12.833625Z",
     "start_time": "2024-08-09T23:28:12.815576Z"
    }
   },
   "outputs": [],
   "source": [
    "cluster_id = os.getenv('NILLION_CLUSTER_ID')\n",
    "chain_id = os.getenv('NILLION_NILCHAIN_CHAIN_ID')\n",
    "grpc_endpoint = os.getenv('NILLION_NILCHAIN_GRPC')\n",
    "\n",
    "print(f\"Cluster ID: {cluster_id}\")\n",
    "print(f\"Chain ID: {chain_id}\")\n",
    "print(f\"GRPC Endpoint: {grpc_endpoint}\")"
   ]
  },
  {
   "cell_type": "markdown",
   "metadata": {},
   "source": [
    "Each actor will need its own node key so we define a utility function here."
   ]
  },
  {
   "cell_type": "code",
   "execution_count": 5,
   "metadata": {
    "ExecuteTime": {
     "end_time": "2024-08-09T23:28:16.326786Z",
     "start_time": "2024-08-09T23:28:16.320243Z"
    }
   },
   "outputs": [],
   "source": [
    "import uuid\n",
    "def gen_node_key():\n",
    "    return NodeKey.from_seed(uuid.uuid4().hex)"
   ]
  },
  {
   "cell_type": "markdown",
   "metadata": {},
   "source": [
    "Setup for the Monadic actor"
   ]
  },
  {
   "cell_type": "code",
   "execution_count": 6,
   "metadata": {
    "ExecuteTime": {
     "end_time": "2024-08-09T23:28:19.828183Z",
     "start_time": "2024-08-09T23:28:19.615786Z"
    }
   },
   "outputs": [],
   "source": [
    "monadic_seed = \"monadic_seed\"\n",
    "monadic_userkey = UserKey.from_seed(monadic_seed)\n",
    "monadic_client = create_nillion_client(monadic_userkey, gen_node_key())\n",
    "monadic_party_id = monadic_client.party_id\n",
    "monadic_user_id = monadic_client.user_id"
   ]
  },
  {
   "cell_type": "markdown",
   "metadata": {},
   "source": [
    "Setup for the Snipper actor"
   ]
  },
  {
   "cell_type": "code",
   "execution_count": 7,
   "metadata": {
    "ExecuteTime": {
     "end_time": "2024-08-09T23:28:22.512975Z",
     "start_time": "2024-08-09T23:28:22.489237Z"
    }
   },
   "outputs": [],
   "source": [
    "snipper_seed = \"snipper_seed\"\n",
    "snipper_userkey = UserKey.from_seed(snipper_seed)\n",
    "snipper_client = create_nillion_client(snipper_userkey, gen_node_key())\n",
    "snipper_party_id = snipper_client.party_id\n",
    "snipper_user_id = snipper_client.user_id"
   ]
  },
  {
   "cell_type": "markdown",
   "metadata": {},
   "source": [
    "Setup for the Patient actor"
   ]
  },
  {
   "cell_type": "code",
   "execution_count": 8,
   "metadata": {
    "ExecuteTime": {
     "end_time": "2024-08-09T23:28:28.760101Z",
     "start_time": "2024-08-09T23:28:28.734404Z"
    }
   },
   "outputs": [],
   "source": [
    "patient_seed = \"patient_seed\"\n",
    "patient_userkey = UserKey.from_seed(patient_seed)\n",
    "patient_client = create_nillion_client(patient_userkey, gen_node_key())\n",
    "patient_party_id = patient_client.party_id\n",
    "patient_user_id = patient_client.user_id"
   ]
  },
  {
   "cell_type": "markdown",
   "metadata": {},
   "source": [
    "Payments set up for all network actions"
   ]
  },
  {
   "cell_type": "code",
   "execution_count": 9,
   "metadata": {
    "ExecuteTime": {
     "end_time": "2024-08-09T23:28:31.282228Z",
     "start_time": "2024-08-09T23:28:31.238065Z"
    },
    "id": "pkaCYaErQ8kf"
   },
   "outputs": [],
   "source": [
    "payments_config = create_payments_config(chain_id, grpc_endpoint)\n",
    "payments_client = LedgerClient(payments_config)\n",
    "payments_wallet = LocalWallet(\n",
    "    PrivateKey(bytes.fromhex(os.getenv(\"NILLION_NILCHAIN_PRIVATE_KEY_0\"))),\n",
    "    prefix=\"nillion\",\n",
    ")"
   ]
  },
  {
   "cell_type": "markdown",
   "metadata": {},
   "source": [
    "Configuration for the program to use. Change the contents of the below cell to use another program. "
   ]
  },
  {
   "cell_type": "code",
   "execution_count": 10,
   "metadata": {
    "ExecuteTime": {
     "end_time": "2024-08-09T23:28:33.143041Z",
     "start_time": "2024-08-09T23:28:33.134076Z"
    },
    "id": "rEr0_JkMuVci"
   },
   "outputs": [],
   "source": [
    "program_name = \"double\"\n",
    "program_mir_path = f\"binaries/double.nada.bin\""
   ]
  },
  {
   "cell_type": "markdown",
   "metadata": {},
   "source": [
    "As a baseline, let's ensure that the user can store the program and run it on their own secret. "
   ]
  },
  {
   "cell_type": "code",
   "execution_count": null,
   "metadata": {
    "ExecuteTime": {
     "end_time": "2024-08-09T23:28:41.524938Z",
     "start_time": "2024-08-09T23:28:35.164639Z"
    }
   },
   "outputs": [],
   "source": [
    "import os\n",
    "\n",
    "os.environ['RUST_BACKTRACE'] = '1'\n",
    "\n",
    "print(\"The patient is storing the program on the network\")\n",
    "\n",
    "async def store_program():\n",
    "    receipt_store_program = await get_quote_and_pay(\n",
    "        patient_client,\n",
    "        nillion.Operation.store_program(program_mir_path),\n",
    "        payments_wallet,\n",
    "        payments_client,\n",
    "        cluster_id,\n",
    "    )\n",
    "\n",
    "    # Store the program\n",
    "    action_id = await patient_client.store_program(\n",
    "        cluster_id, program_name, program_mir_path, receipt_store_program\n",
    "    )\n",
    "    return action_id\n",
    "\n",
    "action_id = await store_program()\n",
    "print(f\"Action ID: {action_id}\")\n",
    "\n",
    "print(\"The patient is storing a secret on the network\")\n",
    "\n",
    "program_id = f\"{patient_user_id}/{program_name}\"\n",
    "\n",
    "new_secret = nillion.NadaValues(\n",
    "    {\n",
    "        \"foo\": nillion.SecretInteger(2),\n",
    "    }\n",
    ")\n",
    "\n",
    "# Set permissions for the client to compute on the program\n",
    "permissions = nillion.Permissions.default_for_user(patient_user_id)\n",
    "permissions.add_compute_permissions({patient_user_id: {program_id}})\n",
    "\n",
    "# Pay for and store the secret in the network and print the returned store_id\n",
    "receipt_store = await get_quote_and_pay(\n",
    "    patient_client,\n",
    "    nillion.Operation.store_values(new_secret, ttl_days=5),\n",
    "    payments_wallet,\n",
    "    payments_client,\n",
    "    cluster_id,\n",
    ")\n",
    "# Store a secret\n",
    "store_id = await patient_client.store_values(\n",
    "    cluster_id, new_secret, permissions, receipt_store\n",
    ")\n",
    "\n",
    "print(\"The patient is running the program on the secret..\")\n",
    "\n",
    "party_name = \"Party1\"\n",
    "compute_bindings = nillion.ProgramBindings(program_id)\n",
    "compute_bindings.add_input_party(party_name, patient_party_id)\n",
    "compute_bindings.add_output_party(party_name, patient_party_id)\n",
    "computation_time_secrets = nillion.NadaValues({})\n",
    "\n",
    "# Pay for the compute\n",
    "receipt_compute = await get_quote_and_pay(\n",
    "    patient_client,\n",
    "    nillion.Operation.compute(program_id, computation_time_secrets),\n",
    "    payments_wallet,\n",
    "    payments_client,\n",
    "    cluster_id,\n",
    ")\n",
    "\n",
    "# Compute on the secret\n",
    "compute_id = await patient_client.compute(\n",
    "    cluster_id,\n",
    "    compute_bindings,\n",
    "    [store_id],\n",
    "    computation_time_secrets,\n",
    "    receipt_compute,\n",
    ")\n",
    "\n",
    "# 8. Return the computation result\n",
    "print(f\"The computation was sent to the network. compute_id: {compute_id}\")\n",
    "while True:\n",
    "    compute_event = await patient_client.next_compute_event()\n",
    "    if isinstance(compute_event, nillion.ComputeFinishedEvent):\n",
    "        print(f\"✅  Compute complete for compute_id {compute_event.uuid}\")\n",
    "        print(f\"🖥️  The result is {compute_event.result.value}\")\n",
    "        break"
   ]
  },
  {
   "cell_type": "markdown",
   "metadata": {},
   "source": [
    "Have Monadic store the program on the network\n",
    "\n",
    "TODO: Also have Snipper save the program and replicate the computation"
   ]
  },
  {
   "cell_type": "code",
   "execution_count": null,
   "metadata": {
    "ExecuteTime": {
     "end_time": "2024-08-09T23:28:49.395066Z",
     "start_time": "2024-08-09T23:28:47.351151Z"
    },
    "colab": {
     "base_uri": "https://localhost:8080/",
     "height": 211
    },
    "id": "wgS0N715Qid2",
    "outputId": "eb833ff1-b29c-492b-b3c4-271a08a86b51"
   },
   "outputs": [],
   "source": [
    "async def store_program():\n",
    "    receipt_store_program = await get_quote_and_pay(\n",
    "        monadic_client,\n",
    "        nillion.Operation.store_program(program_mir_path),\n",
    "        payments_wallet,\n",
    "        payments_client,\n",
    "        cluster_id,\n",
    "    )\n",
    "\n",
    "    # Store the program\n",
    "    action_id = await monadic_client.store_program(\n",
    "        cluster_id, program_name, program_mir_path, receipt_store_program\n",
    "    )\n",
    "    return action_id\n",
    "\n",
    "# Use this in your Jupyter notebook cell\n",
    "action_id = await store_program()\n",
    "print(f\"Action ID: {action_id}\")\n",
    "\n"
   ]
  },
  {
   "cell_type": "markdown",
   "metadata": {},
   "source": [
    "Have the Patient store a secret on the network such that:\n",
    "- The Patient has all the regular persmissions\n",
    "- Monadic is able to modify permissions and compute on the secret\n",
    "- Snipper is able to compute on the secret\n",
    "\n",
    "TODO: Establish a chain by having Monadic actually assign compute access to Snipper"
   ]
  },
  {
   "cell_type": "code",
   "execution_count": null,
   "metadata": {
    "ExecuteTime": {
     "end_time": "2024-08-09T23:28:54.210051Z",
     "start_time": "2024-08-09T23:28:52.165103Z"
    }
   },
   "outputs": [],
   "source": [
    "program_id = f\"{monadic_user_id}/{program_name}\"\n",
    "\n",
    "new_secret = nillion.NadaValues(\n",
    "    {\n",
    "        \"foo\": nillion.SecretInteger(2),\n",
    "    }\n",
    ")\n",
    "\n",
    "# Set permissions for the client to compute on the program\n",
    "permissions = nillion.Permissions.default_for_user(patient_user_id)\n",
    "permissions.add_update_permissions(set([monadic_user_id]))\n",
    "permissions.add_compute_permissions({monadic_user_id: {program_id}})\n",
    "permissions.add_compute_permissions({snipper_user_id: {program_id}})\n",
    "\n",
    "# Pay for and store the secret in the network and print the returned store_id\n",
    "receipt_store = await get_quote_and_pay(\n",
    "    patient_client,\n",
    "    nillion.Operation.store_values(new_secret, ttl_days=5),\n",
    "    payments_wallet,\n",
    "    payments_client,\n",
    "    cluster_id,\n",
    ")\n",
    "# Store a secret\n",
    "store_id = await patient_client.store_values(\n",
    "    cluster_id, new_secret, permissions, receipt_store\n",
    ")"
   ]
  },
  {
   "cell_type": "markdown",
   "metadata": {},
   "source": [
    "Have Monadic run the stored program on the stored secret\n",
    "\n",
    "TODO: Have Snipper run the stored program on the stored secret"
   ]
  },
  {
   "cell_type": "code",
   "execution_count": null,
   "metadata": {
    "ExecuteTime": {
     "end_time": "2024-08-09T23:28:59.264419Z",
     "start_time": "2024-08-09T23:28:57.193511Z"
    }
   },
   "outputs": [],
   "source": [
    "import os\n",
    "\n",
    "os.environ['RUST_BACKTRACE'] = 'full'\n",
    "\n",
    "party_name = \"Party1\"\n",
    "compute_bindings = nillion.ProgramBindings(program_id)\n",
    "compute_bindings.add_input_party(party_name, monadic_party_id)\n",
    "compute_bindings.add_output_party(party_name, monadic_party_id)\n",
    "\n",
    "computation_time_secrets = nillion.NadaValues({})\n",
    "\n",
    "# Pay for the compute\n",
    "receipt_compute = await get_quote_and_pay(\n",
    "    monadic_client,\n",
    "    nillion.Operation.compute(program_id, computation_time_secrets),\n",
    "    payments_wallet,\n",
    "    payments_client,\n",
    "    cluster_id,\n",
    ")\n",
    "\n",
    "# Compute on the secret\n",
    "compute_id = await monadic_client.compute(\n",
    "    cluster_id,\n",
    "    compute_bindings,\n",
    "    [store_id],\n",
    "    computation_time_secrets,\n",
    "    receipt_compute,\n",
    ")\n",
    "\n",
    "# 8. Return the computation result\n",
    "print(f\"The computation was sent to the network. compute_id: {compute_id}\")\n",
    "while True:\n",
    "    compute_event = await monadic_client.next_compute_event()\n",
    "    if isinstance(compute_event, nillion.ComputeFinishedEvent):\n",
    "        print(f\"✅  Compute complete for compute_id {compute_event.uuid}\")\n",
    "        print(f\"🖥️  The result is {compute_event.result.value}\")\n",
    "        break"
   ]
  },
  {
   "cell_type": "markdown",
   "metadata": {},
   "source": [
    "Now have Snipper run the program"
   ]
  },
  {
   "cell_type": "code",
   "execution_count": null,
   "metadata": {
    "ExecuteTime": {
     "end_time": "2024-08-09T23:41:25.749809Z",
     "start_time": "2024-08-09T23:41:23.044687Z"
    }
   },
   "outputs": [],
   "source": [
    "party_name = \"Party1\"\n",
    "compute_bindings = nillion.ProgramBindings(program_id)\n",
    "compute_bindings.add_input_party(party_name, snipper_party_id)\n",
    "compute_bindings.add_output_party(party_name, snipper_party_id)\n",
    "\n",
    "computation_time_secrets = nillion.NadaValues({})\n",
    "\n",
    "# Pay for the compute\n",
    "receipt_compute = await get_quote_and_pay(\n",
    "    snipper_client,\n",
    "    nillion.Operation.compute(program_id, computation_time_secrets),\n",
    "    payments_wallet,\n",
    "    payments_client,\n",
    "    cluster_id,\n",
    ")\n",
    "\n",
    "# Compute on the secret\n",
    "compute_id = await snipper_client.compute(\n",
    "    cluster_id,\n",
    "    compute_bindings,\n",
    "    [store_id],\n",
    "    computation_time_secrets,\n",
    "    receipt_compute,\n",
    ")\n",
    "\n",
    "# 8. Return the computation result\n",
    "print(f\"The computation was sent to the network. compute_id: {compute_id}\")\n",
    "while True:\n",
    "    compute_event = await snipper_client.next_compute_event()\n",
    "    if isinstance(compute_event, nillion.ComputeFinishedEvent):\n",
    "        print(f\"✅  Compute complete for compute_id {compute_event.uuid}\")\n",
    "        print(f\"🖥️  The result is {compute_event.result.value}\")\n",
    "        break"
   ]
  },
  {
   "cell_type": "code",
   "execution_count": null,
   "metadata": {},
   "outputs": [],
   "source": []
  }
 ],
 "metadata": {
  "colab": {
   "provenance": []
  },
  "kernelspec": {
   "display_name": "Python 3 (ipykernel)",
   "language": "python",
   "name": "python3"
  },
  "language_info": {
   "codemirror_mode": {
    "name": "ipython",
    "version": 3
   },
   "file_extension": ".py",
   "mimetype": "text/x-python",
   "name": "python",
   "nbconvert_exporter": "python",
   "pygments_lexer": "ipython3",
   "version": "3.12.2"
  }
 },
 "nbformat": 4,
 "nbformat_minor": 0
}
