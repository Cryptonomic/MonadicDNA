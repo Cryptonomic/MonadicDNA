{
 "cells": [
  {
   "metadata": {},
   "cell_type": "markdown",
   "source": [
    "This notebook loads some genomic data from a single user from a 23andMe file and stores it on the Nillion platform.\n",
    "\n",
    "The objective is to benchmark the storage capacity and performance of the Nillion platform for large datasets."
   ],
   "id": "663e6c9a14c8b44e"
  },
  {
   "metadata": {},
   "cell_type": "markdown",
   "source": "Let's install the necessary libraries.",
   "id": "70096bc058cadc0e"
  },
  {
   "metadata": {
    "ExecuteTime": {
     "end_time": "2024-08-22T13:57:05.213020Z",
     "start_time": "2024-08-22T13:56:42.806836Z"
    }
   },
   "cell_type": "code",
   "source": [
    "!pip install numpy\n",
    "!pip install nada_numpy"
   ],
   "id": "7280ce2eeb321ec3",
   "outputs": [
    {
     "name": "stdout",
     "output_type": "stream",
     "text": [
      "Collecting numpy\r\n",
      "  Downloading numpy-2.1.0-cp310-cp310-manylinux_2_17_x86_64.manylinux2014_x86_64.whl (16.3 MB)\r\n",
      "\u001B[2K     \u001B[90m━━━━━━━━━━━━━━━━━━━━━━━━━━━━━━━━━━━━━━━━\u001B[0m \u001B[32m16.3/16.3 MB\u001B[0m \u001B[31m1.5 MB/s\u001B[0m eta \u001B[36m0:00:00\u001B[0m00:01\u001B[0m00:01\u001B[0m\r\n",
      "\u001B[?25hInstalling collected packages: numpy\r\n",
      "Successfully installed numpy-2.1.0\r\n",
      "Collecting nada_numpy\r\n",
      "  Downloading nada_numpy-0.4.0-py3-none-any.whl (23 kB)\r\n",
      "Collecting numpy<2.0.0,>=1.26.4\r\n",
      "  Downloading numpy-1.26.4-cp310-cp310-manylinux_2_17_x86_64.manylinux2014_x86_64.whl (18.2 MB)\r\n",
      "\u001B[2K     \u001B[90m━━━━━━━━━━━━━━━━━━━━━━━━━━━━━━━━━━━━━━━━\u001B[0m \u001B[32m18.2/18.2 MB\u001B[0m \u001B[31m3.1 MB/s\u001B[0m eta \u001B[36m0:00:00\u001B[0m00:01\u001B[0m00:01\u001B[0m\r\n",
      "\u001B[?25hRequirement already satisfied: nada-dsl<0.6.0,>=0.5.0 in ./venv/lib/python3.10/site-packages (from nada_numpy) (0.5.0)\r\n",
      "Requirement already satisfied: py-nillion-client<0.6.0,>=0.5.0 in ./venv/lib/python3.10/site-packages (from nada_numpy) (0.5.0)\r\n",
      "Requirement already satisfied: nillion-python-helpers<0.3.0,>=0.2.3 in ./venv/lib/python3.10/site-packages (from nada_numpy) (0.2.3)\r\n",
      "Requirement already satisfied: richreports~=0.2 in ./venv/lib/python3.10/site-packages (from nada-dsl<0.6.0,>=0.5.0->nada_numpy) (0.2.0)\r\n",
      "Requirement already satisfied: sortedcontainers~=2.4 in ./venv/lib/python3.10/site-packages (from nada-dsl<0.6.0,>=0.5.0->nada_numpy) (2.4.0)\r\n",
      "Requirement already satisfied: asttokens~=2.4 in ./venv/lib/python3.10/site-packages (from nada-dsl<0.6.0,>=0.5.0->nada_numpy) (2.4.1)\r\n",
      "Requirement already satisfied: parsial~=0.1 in ./venv/lib/python3.10/site-packages (from nada-dsl<0.6.0,>=0.5.0->nada_numpy) (0.1.0)\r\n",
      "Requirement already satisfied: cosmpy<0.10.0,>=0.9.2 in ./venv/lib/python3.10/site-packages (from nillion-python-helpers<0.3.0,>=0.2.3->nada_numpy) (0.9.2)\r\n",
      "Requirement already satisfied: python-dotenv==1.0.0 in ./venv/lib/python3.10/site-packages (from nillion-python-helpers<0.3.0,>=0.2.3->nada_numpy) (1.0.0)\r\n",
      "Requirement already satisfied: pytest-asyncio<0.24.0,>=0.23.7 in ./venv/lib/python3.10/site-packages (from nillion-python-helpers<0.3.0,>=0.2.3->nada_numpy) (0.23.8)\r\n",
      "Requirement already satisfied: protobuf<5.0.dev0,>=4.21.6 in ./venv/lib/python3.10/site-packages (from py-nillion-client<0.6.0,>=0.5.0->nada_numpy) (4.25.4)\r\n",
      "Requirement already satisfied: six>=1.12.0 in ./venv/lib/python3.10/site-packages (from asttokens~=2.4->nada-dsl<0.6.0,>=0.5.0->nada_numpy) (1.16.0)\r\n",
      "Requirement already satisfied: jsonschema<5,>=3.2.0 in ./venv/lib/python3.10/site-packages (from cosmpy<0.10.0,>=0.9.2->nillion-python-helpers<0.3.0,>=0.2.3->nada_numpy) (4.23.0)\r\n",
      "Requirement already satisfied: bech32 in ./venv/lib/python3.10/site-packages (from cosmpy<0.10.0,>=0.9.2->nillion-python-helpers<0.3.0,>=0.2.3->nada_numpy) (1.2.0)\r\n",
      "Requirement already satisfied: googleapis-common-protos in ./venv/lib/python3.10/site-packages (from cosmpy<0.10.0,>=0.9.2->nillion-python-helpers<0.3.0,>=0.2.3->nada_numpy) (1.63.2)\r\n",
      "Requirement already satisfied: requests in ./venv/lib/python3.10/site-packages (from cosmpy<0.10.0,>=0.9.2->nillion-python-helpers<0.3.0,>=0.2.3->nada_numpy) (2.32.3)\r\n",
      "Requirement already satisfied: ecdsa in ./venv/lib/python3.10/site-packages (from cosmpy<0.10.0,>=0.9.2->nillion-python-helpers<0.3.0,>=0.2.3->nada_numpy) (0.19.0)\r\n",
      "Requirement already satisfied: pycryptodome<4.0.0,>=3.18.0 in ./venv/lib/python3.10/site-packages (from cosmpy<0.10.0,>=0.9.2->nillion-python-helpers<0.3.0,>=0.2.3->nada_numpy) (3.20.0)\r\n",
      "Requirement already satisfied: grpcio in ./venv/lib/python3.10/site-packages (from cosmpy<0.10.0,>=0.9.2->nillion-python-helpers<0.3.0,>=0.2.3->nada_numpy) (1.65.4)\r\n",
      "Requirement already satisfied: python-dateutil in ./venv/lib/python3.10/site-packages (from cosmpy<0.10.0,>=0.9.2->nillion-python-helpers<0.3.0,>=0.2.3->nada_numpy) (2.9.0.post0)\r\n",
      "Requirement already satisfied: pytest<9,>=7.0.0 in ./venv/lib/python3.10/site-packages (from pytest-asyncio<0.24.0,>=0.23.7->nillion-python-helpers<0.3.0,>=0.2.3->nada_numpy) (8.1.1)\r\n",
      "Requirement already satisfied: referencing>=0.28.4 in ./venv/lib/python3.10/site-packages (from jsonschema<5,>=3.2.0->cosmpy<0.10.0,>=0.9.2->nillion-python-helpers<0.3.0,>=0.2.3->nada_numpy) (0.35.1)\r\n",
      "Requirement already satisfied: attrs>=22.2.0 in ./venv/lib/python3.10/site-packages (from jsonschema<5,>=3.2.0->cosmpy<0.10.0,>=0.9.2->nillion-python-helpers<0.3.0,>=0.2.3->nada_numpy) (23.2.0)\r\n",
      "Requirement already satisfied: jsonschema-specifications>=2023.03.6 in ./venv/lib/python3.10/site-packages (from jsonschema<5,>=3.2.0->cosmpy<0.10.0,>=0.9.2->nillion-python-helpers<0.3.0,>=0.2.3->nada_numpy) (2023.12.1)\r\n",
      "Requirement already satisfied: rpds-py>=0.7.1 in ./venv/lib/python3.10/site-packages (from jsonschema<5,>=3.2.0->cosmpy<0.10.0,>=0.9.2->nillion-python-helpers<0.3.0,>=0.2.3->nada_numpy) (0.19.1)\r\n",
      "Requirement already satisfied: iniconfig in ./venv/lib/python3.10/site-packages (from pytest<9,>=7.0.0->pytest-asyncio<0.24.0,>=0.23.7->nillion-python-helpers<0.3.0,>=0.2.3->nada_numpy) (2.0.0)\r\n",
      "Requirement already satisfied: tomli>=1 in ./venv/lib/python3.10/site-packages (from pytest<9,>=7.0.0->pytest-asyncio<0.24.0,>=0.23.7->nillion-python-helpers<0.3.0,>=0.2.3->nada_numpy) (2.0.1)\r\n",
      "Requirement already satisfied: packaging in ./venv/lib/python3.10/site-packages (from pytest<9,>=7.0.0->pytest-asyncio<0.24.0,>=0.23.7->nillion-python-helpers<0.3.0,>=0.2.3->nada_numpy) (24.0)\r\n",
      "Requirement already satisfied: exceptiongroup>=1.0.0rc8 in ./venv/lib/python3.10/site-packages (from pytest<9,>=7.0.0->pytest-asyncio<0.24.0,>=0.23.7->nillion-python-helpers<0.3.0,>=0.2.3->nada_numpy) (1.2.0)\r\n",
      "Requirement already satisfied: pluggy<2.0,>=1.4 in ./venv/lib/python3.10/site-packages (from pytest<9,>=7.0.0->pytest-asyncio<0.24.0,>=0.23.7->nillion-python-helpers<0.3.0,>=0.2.3->nada_numpy) (1.4.0)\r\n",
      "Requirement already satisfied: urllib3<3,>=1.21.1 in ./venv/lib/python3.10/site-packages (from requests->cosmpy<0.10.0,>=0.9.2->nillion-python-helpers<0.3.0,>=0.2.3->nada_numpy) (2.2.2)\r\n",
      "Requirement already satisfied: idna<4,>=2.5 in ./venv/lib/python3.10/site-packages (from requests->cosmpy<0.10.0,>=0.9.2->nillion-python-helpers<0.3.0,>=0.2.3->nada_numpy) (3.7)\r\n",
      "Requirement already satisfied: certifi>=2017.4.17 in ./venv/lib/python3.10/site-packages (from requests->cosmpy<0.10.0,>=0.9.2->nillion-python-helpers<0.3.0,>=0.2.3->nada_numpy) (2024.7.4)\r\n",
      "Requirement already satisfied: charset-normalizer<4,>=2 in ./venv/lib/python3.10/site-packages (from requests->cosmpy<0.10.0,>=0.9.2->nillion-python-helpers<0.3.0,>=0.2.3->nada_numpy) (3.3.2)\r\n",
      "Installing collected packages: numpy, nada_numpy\r\n",
      "  Attempting uninstall: numpy\r\n",
      "    Found existing installation: numpy 2.1.0\r\n",
      "    Uninstalling numpy-2.1.0:\r\n",
      "      Successfully uninstalled numpy-2.1.0\r\n",
      "Successfully installed nada_numpy-0.4.0 numpy-1.26.4\r\n"
     ]
    }
   ],
   "execution_count": 1
  },
  {
   "metadata": {},
   "cell_type": "markdown",
   "source": "Let's load the genomic data from the sample 23andMe file.",
   "id": "f8485b0518d8438d"
  },
  {
   "cell_type": "code",
   "id": "initial_id",
   "metadata": {
    "collapsed": true,
    "ExecuteTime": {
     "end_time": "2024-09-13T19:17:01.391890Z",
     "start_time": "2024-09-13T19:17:01.066083Z"
    }
   },
   "source": [
    "import os\n",
    "import numpy as np\n",
    "import re\n",
    "\n",
    "def read_and_process_23andme(file_path, num_lines=None):\n",
    "    # Check if the file exists\n",
    "    if not os.path.exists(file_path):\n",
    "        raise FileNotFoundError(f\"The file {file_path} does not exist.\")\n",
    "\n",
    "    # Genotype to integer mapping\n",
    "    genotype_to_int = {\n",
    "        \"AA\": 0, \"AC\": 1, \"AG\": 2, \"AT\": 3,\n",
    "        \"CC\": 4, \"CG\": 5, \"CT\": 6,\n",
    "        \"GG\": 7, \"GT\": 8,\n",
    "        \"TT\": 9\n",
    "    }\n",
    "\n",
    "    results = []\n",
    "\n",
    "    with open(file_path, 'r', encoding='utf-8') as file:\n",
    "        lines_read = 0\n",
    "        for line in file:\n",
    "            if num_lines is not None and lines_read >= num_lines:\n",
    "                break\n",
    "\n",
    "            if line.startswith('#'):\n",
    "                continue\n",
    "\n",
    "            parts = line.strip().split('\\t')\n",
    "            if len(parts) < 4:\n",
    "                continue\n",
    "\n",
    "            rsid, chromosome, position, genotype = parts\n",
    "\n",
    "            # Extract only the numbers from rsid\n",
    "            rsid_int = int(re.sub(r'\\D', '', rsid))\n",
    "\n",
    "            genotype_int = genotype_to_int.get(genotype, -1)  # Use -1 for unrecognized genotypes\n",
    "\n",
    "            # Convert chromosome to int if possible, otherwise use -1\n",
    "            try:\n",
    "                chrom_int = int(chromosome)\n",
    "            except ValueError:\n",
    "                chrom_int = -1  # Use -1 for non-numeric chromosomes (e.g., 'X', 'Y', 'MT')\n",
    "\n",
    "            results.append([rsid_int, chrom_int, int(position), genotype_int])\n",
    "\n",
    "            lines_read += 1\n",
    "\n",
    "    return np.array(results, dtype=int)"
   ],
   "outputs": [],
   "execution_count": 2
  },
  {
   "metadata": {
    "ExecuteTime": {
     "end_time": "2024-09-13T19:17:07.083724Z",
     "start_time": "2024-09-13T19:17:06.241704Z"
    }
   },
   "cell_type": "code",
   "source": [
    "gene_data = read_and_process_23andme('testdata/hu278AF5_20210124151934.txt', 1000000)\n",
    "gene_data[:5, :]"
   ],
   "id": "d2ede7bba4a995b0",
   "outputs": [
    {
     "data": {
      "text/plain": [
       "array([[548049170,         1,     69869,         9],\n",
       "       [  9283150,         1,    565508,         0],\n",
       "       [116587930,         1,    727841,         7],\n",
       "       [  3131972,         1,    752721,         2],\n",
       "       [ 12184325,         1,    754105,         4]])"
      ]
     },
     "execution_count": 3,
     "metadata": {},
     "output_type": "execute_result"
    }
   ],
   "execution_count": 3
  },
  {
   "metadata": {
    "ExecuteTime": {
     "end_time": "2024-09-13T19:17:13.489386Z",
     "start_time": "2024-09-13T19:17:13.483613Z"
    }
   },
   "cell_type": "code",
   "source": "gene_data.shape",
   "id": "c1d96e2ea2220a9b",
   "outputs": [
    {
     "data": {
      "text/plain": [
       "(631955, 4)"
      ]
     },
     "execution_count": 4,
     "metadata": {},
     "output_type": "execute_result"
    }
   ],
   "execution_count": 4
  },
  {
   "metadata": {
    "ExecuteTime": {
     "end_time": "2024-09-13T19:17:16.699898Z",
     "start_time": "2024-09-13T19:17:16.688849Z"
    }
   },
   "cell_type": "code",
   "source": "gene_data[gene_data[:, 0] == 1815739]",
   "id": "a019086389c4aff",
   "outputs": [
    {
     "data": {
      "text/plain": [
       "array([[ 1815739,       11, 66328095,        6]])"
      ]
     },
     "execution_count": 5,
     "metadata": {},
     "output_type": "execute_result"
    }
   ],
   "execution_count": 5
  },
  {
   "metadata": {
    "ExecuteTime": {
     "end_time": "2024-09-13T19:21:14.529977Z",
     "start_time": "2024-09-13T19:21:14.464082Z"
    }
   },
   "cell_type": "code",
   "source": [
    "target_snp_1 = 1815739\n",
    "target_genotype_1 = 6\n",
    "\n",
    "boolean_mask = gene_data[:, 0] == target_snp_1\n",
    "actual_genotype_1 = np.dot(boolean_mask, gene_data[:, 3])\n",
    "actual_genotype_1"
   ],
   "id": "4c536a0beca2655c",
   "outputs": [
    {
     "data": {
      "text/plain": [
       "6"
      ]
     },
     "execution_count": 10,
     "metadata": {},
     "output_type": "execute_result"
    }
   ],
   "execution_count": 10
  },
  {
   "metadata": {
    "ExecuteTime": {
     "end_time": "2024-09-13T19:21:17.846807Z",
     "start_time": "2024-09-13T19:21:17.842518Z"
    }
   },
   "cell_type": "code",
   "source": [
    "\n",
    "is_successful = actual_genotype_1 == target_genotype_1\n",
    "print(is_successful)"
   ],
   "id": "273585be787988f6",
   "outputs": [
    {
     "name": "stdout",
     "output_type": "stream",
     "text": [
      "True\n"
     ]
    }
   ],
   "execution_count": 11
  },
  {
   "metadata": {},
   "cell_type": "markdown",
   "source": "Let's do some Nillon setup.",
   "id": "40ccec22482ad3d6"
  },
  {
   "metadata": {
    "ExecuteTime": {
     "end_time": "2024-08-21T23:38:46.733896Z",
     "start_time": "2024-08-21T23:38:46.710257Z"
    }
   },
   "cell_type": "code",
   "outputs": [
    {
     "name": "stdout",
     "output_type": "stream",
     "text": [
      "Loading environment variables from /Users/vishakh/.config/nillion/nillion-devnet.env\n",
      "NILLION_CLUSTER_ID: 9e68173f-9c23-4acc-ba81-4f079b639964\n",
      "NILLION_BOOTNODE_MULTIADDRESS: /ip4/127.0.0.1/tcp/37939/p2p/12D3KooWMvw1hEqm7EWSDEyqTb6pNetUVkepahKY6hixuAuMZfJS\n",
      "NILLION_BOOTNODE_WEBSOCKET: /ip4/127.0.0.1/tcp/54936/ws/p2p/12D3KooWMvw1hEqm7EWSDEyqTb6pNetUVkepahKY6hixuAuMZfJS\n",
      "NILLION_NILCHAIN_CHAIN_ID: nillion-chain-devnet\n",
      "NILLION_NILCHAIN_JSON_RPC: http://127.0.0.1:48102\n",
      "NILLION_NILCHAIN_REST_API: http://localhost:26650\n",
      "NILLION_NILCHAIN_GRPC: localhost:26649\n",
      "NILLION_NILCHAIN_PRIVATE_KEY_0: 9a975f567428d054f2bf3092812e6c42f901ce07d9711bc77ee2cd81101f42c5\n",
      "NILLION_NILCHAIN_PRIVATE_KEY_1: 1e491133b9408b39572a29f91644873decea554224b20e2b0b923aeb860a1c18\n",
      "NILLION_NILCHAIN_PRIVATE_KEY_2: 980488572f235316cdb330191f8bafe4e635efbe88b3a40f5bee9bd21047c059\n",
      "NILLION_NILCHAIN_PRIVATE_KEY_3: 612bb5173dc60d9e91404fcc0d1f1847fb4459a7d5160d63d84e91aacbf2ab2f\n",
      "NILLION_NILCHAIN_PRIVATE_KEY_4: 04f5a984eeea9dce4e5e907da69c01a61568e3071b1a91cbed89225f9fd913b5\n",
      "NILLION_NILCHAIN_PRIVATE_KEY_5: 5f992c58921f4af83b4c6b650c4914626664cd02020577b0ada49cfa00d2c8a4\n",
      "NILLION_NILCHAIN_PRIVATE_KEY_6: 8f0297d3bb647eb59b95b29550b2aebbedd9be2c954b000e772efe8c9318a42d\n",
      "NILLION_NILCHAIN_PRIVATE_KEY_7: c395243df9bb68dc809668efe4125f0eb017771ed8e3747b8d6860551913fecb\n",
      "NILLION_NILCHAIN_PRIVATE_KEY_8: 4bb5eaa799e24ae2b48545c41331921afe7e6a8dd7a850f5fbeb20a8226664ec\n",
      "NILLION_NILCHAIN_PRIVATE_KEY_9: ef4b944d4fdb0077057925fe2dde365dfa2c83cf320463b14589feccd1b2b938\n"
     ]
    }
   ],
   "execution_count": 47,
   "source": [
    "import os\n",
    "import py_nillion_client as nillion\n",
    "from py_nillion_client import NodeKey, UserKey\n",
    "from dotenv import load_dotenv\n",
    "from nillion_python_helpers import get_quote_and_pay, create_nillion_client, create_payments_config\n",
    "from cosmpy.aerial.client import LedgerClient\n",
    "from cosmpy.aerial.wallet import LocalWallet\n",
    "from cosmpy.crypto.keypairs import PrivateKey\n",
    "import uuid\n",
    "\n",
    "home_dir = os.path.expanduser(\"~\")\n",
    "env_path = os.path.join(home_dir, \".config\", \"nillion\", \"nillion-devnet.env\")\n",
    "\n",
    "print(f\"Loading environment variables from {env_path}\")\n",
    "\n",
    "load_dotenv(env_path)\n",
    "for key, value in os.environ.items():\n",
    "    if key.startswith(\"NILLION_\"):\n",
    "        print(f\"{key}: {value}\")\n",
    "\n",
    "cluster_id = os.getenv('NILLION_CLUSTER_ID')\n",
    "chain_id = os.getenv('NILLION_NILCHAIN_CHAIN_ID')\n",
    "grpc_endpoint = os.getenv('NILLION_NILCHAIN_GRPC')\n",
    "\n",
    "monadic_seed = \"monadic_seed\"\n",
    "monadic_userkey = UserKey.from_seed(monadic_seed)\n",
    "monadic_client = create_nillion_client(monadic_userkey, NodeKey.from_seed(uuid.uuid4().hex))\n",
    "monadic_party_id = monadic_client.party_id\n",
    "monadic_user_id = monadic_client.user_id\n",
    "\n",
    "payments_config = create_payments_config(chain_id, grpc_endpoint)\n",
    "payments_client = LedgerClient(payments_config)\n",
    "payments_wallet = LocalWallet(\n",
    "    PrivateKey(bytes.fromhex(os.getenv(\"NILLION_NILCHAIN_PRIVATE_KEY_0\"))),\n",
    "    prefix=\"nillion\",\n",
    ")"
   ],
   "id": "84da614cf4520b6c"
  },
  {
   "metadata": {},
   "cell_type": "markdown",
   "source": "Adapting a utility function from https://github.com/NillionNetwork/nada-numpy/blob/8dbf08c0ee840cab8b6103ef1d7dc5dcf438d442/examples/common/utils.py#L158. ",
   "id": "8d964ddbdf389117"
  },
  {
   "metadata": {
    "ExecuteTime": {
     "end_time": "2024-08-21T23:38:48.516561Z",
     "start_time": "2024-08-21T23:38:48.512197Z"
    }
   },
   "cell_type": "code",
   "outputs": [],
   "execution_count": 48,
   "source": [
    "from typing import Any\n",
    "import nada_numpy.client as na_client\n",
    "\n",
    "async def store_secret_array(\n",
    "        client: nillion.NillionClient,\n",
    "        payments_wallet: LocalWallet,\n",
    "        payments_client: LedgerClient,\n",
    "        cluster_id: str,\n",
    "        secret_array: np.ndarray,\n",
    "        secret_name: str,\n",
    "        nada_type: Any,\n",
    "        ttl_days: int = 1,\n",
    "        permissions: nillion.Permissions = None,\n",
    "):\n",
    "\n",
    "    # Create a secret\n",
    "    stored_secret = nillion.NadaValues(\n",
    "        na_client.array(secret_array, secret_name, nada_type)\n",
    "    )\n",
    "\n",
    "    # Get cost quote, then pay for operation to store the secret\n",
    "    receipt_store = await get_quote_and_pay(\n",
    "        client,\n",
    "        nillion.Operation.store_values(stored_secret, ttl_days=ttl_days),\n",
    "        payments_wallet,\n",
    "        payments_client,\n",
    "        cluster_id,\n",
    "    )\n",
    "\n",
    "    # Store a secret, passing in the receipt that shows proof of payment\n",
    "    store_id = await client.store_values(\n",
    "        cluster_id, stored_secret, permissions, receipt_store\n",
    "    )\n",
    "    return store_id"
   ],
   "id": "2740bbe472dbdffb"
  },
  {
   "metadata": {},
   "cell_type": "markdown",
   "source": "And now..the moment of truth!",
   "id": "19a8548d0ceb970"
  },
  {
   "metadata": {
    "ExecuteTime": {
     "end_time": "2024-08-21T23:38:51.468043Z",
     "start_time": "2024-08-21T23:38:50.723226Z"
    }
   },
   "cell_type": "code",
   "outputs": [
    {
     "name": "stdout",
     "output_type": "stream",
     "text": [
      "Getting quote for operation...\n"
     ]
    },
    {
     "ename": "RuntimeError",
     "evalue": "requesting price quote: price quote query failed: price quote query failed: payload size (11171406) exceeds maximum (6291456)",
     "output_type": "error",
     "traceback": [
      "\u001B[0;31m---------------------------------------------------------------------------\u001B[0m",
      "\u001B[0;31mRuntimeError\u001B[0m                              Traceback (most recent call last)",
      "Cell \u001B[0;32mIn[49], line 3\u001B[0m\n\u001B[1;32m      1\u001B[0m permissions \u001B[38;5;241m=\u001B[39m nillion\u001B[38;5;241m.\u001B[39mPermissions\u001B[38;5;241m.\u001B[39mdefault_for_user(monadic_user_id)\n\u001B[0;32m----> 3\u001B[0m store_id \u001B[38;5;241m=\u001B[39m \u001B[38;5;28;01mawait\u001B[39;00m store_secret_array(\n\u001B[1;32m      4\u001B[0m     monadic_client,\n\u001B[1;32m      5\u001B[0m     payments_wallet,\n\u001B[1;32m      6\u001B[0m     payments_client,\n\u001B[1;32m      7\u001B[0m     cluster_id,\n\u001B[1;32m      8\u001B[0m     gene_data,\n\u001B[1;32m      9\u001B[0m     gene_data,\n\u001B[1;32m     10\u001B[0m     nillion\u001B[38;5;241m.\u001B[39mSecretInteger,\n\u001B[1;32m     11\u001B[0m     \u001B[38;5;241m1\u001B[39m,\n\u001B[1;32m     12\u001B[0m     permissions,\n\u001B[1;32m     13\u001B[0m )\n",
      "Cell \u001B[0;32mIn[48], line 22\u001B[0m, in \u001B[0;36mstore_secret_array\u001B[0;34m(client, payments_wallet, payments_client, cluster_id, secret_array, secret_name, nada_type, ttl_days, permissions)\u001B[0m\n\u001B[1;32m     17\u001B[0m stored_secret \u001B[38;5;241m=\u001B[39m nillion\u001B[38;5;241m.\u001B[39mNadaValues(\n\u001B[1;32m     18\u001B[0m     na_client\u001B[38;5;241m.\u001B[39marray(secret_array, secret_name, nada_type)\n\u001B[1;32m     19\u001B[0m )\n\u001B[1;32m     21\u001B[0m \u001B[38;5;66;03m# Get cost quote, then pay for operation to store the secret\u001B[39;00m\n\u001B[0;32m---> 22\u001B[0m receipt_store \u001B[38;5;241m=\u001B[39m \u001B[38;5;28;01mawait\u001B[39;00m get_quote_and_pay(\n\u001B[1;32m     23\u001B[0m     client,\n\u001B[1;32m     24\u001B[0m     nillion\u001B[38;5;241m.\u001B[39mOperation\u001B[38;5;241m.\u001B[39mstore_values(stored_secret, ttl_days\u001B[38;5;241m=\u001B[39mttl_days),\n\u001B[1;32m     25\u001B[0m     payments_wallet,\n\u001B[1;32m     26\u001B[0m     payments_client,\n\u001B[1;32m     27\u001B[0m     cluster_id,\n\u001B[1;32m     28\u001B[0m )\n\u001B[1;32m     30\u001B[0m \u001B[38;5;66;03m# Store a secret, passing in the receipt that shows proof of payment\u001B[39;00m\n\u001B[1;32m     31\u001B[0m store_id \u001B[38;5;241m=\u001B[39m \u001B[38;5;28;01mawait\u001B[39;00m client\u001B[38;5;241m.\u001B[39mstore_values(\n\u001B[1;32m     32\u001B[0m     cluster_id, stored_secret, permissions, receipt_store\n\u001B[1;32m     33\u001B[0m )\n",
      "File \u001B[0;32m~/dev/MonadicDNA/services/nillion-interactor/nillion-venv/lib/python3.11/site-packages/nillion_python_helpers/payments.py:29\u001B[0m, in \u001B[0;36mget_quote_and_pay\u001B[0;34m(client, operation, payments_wallet, payments_client, cluster_id)\u001B[0m\n\u001B[1;32m     15\u001B[0m \u001B[38;5;250m\u001B[39m\u001B[38;5;124;03m\"\"\"\u001B[39;00m\n\u001B[1;32m     16\u001B[0m \u001B[38;5;124;03mInitiates a payment for the specified operation using the Nillion client.\u001B[39;00m\n\u001B[1;32m     17\u001B[0m \n\u001B[0;32m   (...)\u001B[0m\n\u001B[1;32m     26\u001B[0m \u001B[38;5;124;03m    nillion.PaymentReceipt: The receipt of the payment containing the quote and transaction hash.\u001B[39;00m\n\u001B[1;32m     27\u001B[0m \u001B[38;5;124;03m\"\"\"\u001B[39;00m\n\u001B[1;32m     28\u001B[0m \u001B[38;5;28mprint\u001B[39m(\u001B[38;5;124m\"\u001B[39m\u001B[38;5;124mGetting quote for operation...\u001B[39m\u001B[38;5;124m\"\u001B[39m)\n\u001B[0;32m---> 29\u001B[0m quote \u001B[38;5;241m=\u001B[39m \u001B[38;5;28;01mawait\u001B[39;00m client\u001B[38;5;241m.\u001B[39mrequest_price_quote(cluster_id, operation)\n\u001B[1;32m     30\u001B[0m \u001B[38;5;28mprint\u001B[39m(\u001B[38;5;124mf\u001B[39m\u001B[38;5;124m\"\u001B[39m\u001B[38;5;124mQuote cost is \u001B[39m\u001B[38;5;132;01m{\u001B[39;00mquote\u001B[38;5;241m.\u001B[39mcost\u001B[38;5;241m.\u001B[39mtotal\u001B[38;5;132;01m}\u001B[39;00m\u001B[38;5;124m unil\u001B[39m\u001B[38;5;124m\"\u001B[39m)\n\u001B[1;32m     31\u001B[0m address \u001B[38;5;241m=\u001B[39m \u001B[38;5;28mstr\u001B[39m(Address(payments_wallet\u001B[38;5;241m.\u001B[39mpublic_key(), \u001B[38;5;124m\"\u001B[39m\u001B[38;5;124mnillion\u001B[39m\u001B[38;5;124m\"\u001B[39m))\n",
      "\u001B[0;31mRuntimeError\u001B[0m: requesting price quote: price quote query failed: price quote query failed: payload size (11171406) exceeds maximum (6291456)"
     ]
    }
   ],
   "execution_count": 49,
   "source": [
    "permissions = nillion.Permissions.default_for_user(monadic_user_id)\n",
    "\n",
    "store_id = await store_secret_array(\n",
    "    monadic_client,\n",
    "    payments_wallet,\n",
    "    payments_client,\n",
    "    cluster_id,\n",
    "    gene_data,\n",
    "    \"gene_data\",\n",
    "    nillion.SecretInteger,\n",
    "    1,\n",
    "    permissions,\n",
    ")"
   ],
   "id": "ad961c332478c206"
  },
  {
   "metadata": {},
   "cell_type": "markdown",
   "source": [
    "Here are the results so far:\n",
    "\n",
    "* 1 record - 2s 545ms\n",
    "* 10 records - 2s 212ms\n",
    "* 100 records - 3s 5ms\n",
    "* 1000 records - 3s 104ms\n",
    "\n",
    "We now need to break the 10,000 record barrier!"
   ],
   "id": "755c0d8d6ef4ceb6"
  },
  {
   "metadata": {},
   "cell_type": "markdown",
   "source": "Now let's do it using a Nada program.",
   "id": "90fb5425f9d91736"
  }
 ],
 "metadata": {
  "kernelspec": {
   "display_name": "Python 3",
   "language": "python",
   "name": "python3"
  },
  "language_info": {
   "codemirror_mode": {
    "name": "ipython",
    "version": 2
   },
   "file_extension": ".py",
   "mimetype": "text/x-python",
   "name": "python",
   "nbconvert_exporter": "python",
   "pygments_lexer": "ipython2",
   "version": "2.7.6"
  }
 },
 "nbformat": 4,
 "nbformat_minor": 5
}
