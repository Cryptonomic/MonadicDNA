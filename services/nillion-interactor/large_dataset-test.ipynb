{
 "cells": [
  {
   "cell_type": "markdown",
   "id": "663e6c9a14c8b44e",
   "metadata": {},
   "source": [
    "This notebook loads some genomic data from a single user from a 23andMe file and stores it on the Nillion platform.\n",
    "\n",
    "The objective is to benchmark the storage capacity and performance of the Nillion platform for large datasets."
   ]
  },
  {
   "cell_type": "markdown",
   "id": "70096bc058cadc0e",
   "metadata": {},
   "source": [
    "Let's install the necessary libraries."
   ]
  },
  {
   "cell_type": "code",
   "execution_count": 18,
   "id": "7280ce2eeb321ec3",
   "metadata": {
    "ExecuteTime": {
     "end_time": "2024-08-22T13:57:05.213020Z",
     "start_time": "2024-08-22T13:56:42.806836Z"
    }
   },
   "outputs": [
    {
     "name": "stdout",
     "output_type": "stream",
     "text": [
      "Requirement already satisfied: numpy in /home/amardeep/jupyter_env/lib/python3.10/site-packages (1.26.4)\n",
      "Requirement already satisfied: nada_numpy in /home/amardeep/jupyter_env/lib/python3.10/site-packages (0.5.3)\n",
      "Requirement already satisfied: py-nillion-client<0.7.0,>=0.6.0 in /home/amardeep/jupyter_env/lib/python3.10/site-packages (from nada_numpy) (0.6.0)\n",
      "Requirement already satisfied: nada-test<0.7.0,>=0.6.0 in /home/amardeep/jupyter_env/lib/python3.10/site-packages (from nada_numpy) (0.6.0)\n",
      "Requirement already satisfied: nada-dsl<0.7.0,>=0.6.3 in /home/amardeep/jupyter_env/lib/python3.10/site-packages (from nada_numpy) (0.6.3)\n",
      "Requirement already satisfied: numpy<2.0.0,>=1.26.4 in /home/amardeep/jupyter_env/lib/python3.10/site-packages (from nada_numpy) (1.26.4)\n",
      "Requirement already satisfied: nillion-python-helpers<0.4.0,>=0.3.0 in /home/amardeep/jupyter_env/lib/python3.10/site-packages (from nada_numpy) (0.3.1)\n",
      "Requirement already satisfied: parsial~=0.1 in /home/amardeep/jupyter_env/lib/python3.10/site-packages (from nada-dsl<0.7.0,>=0.6.3->nada_numpy) (0.1.0)\n",
      "Requirement already satisfied: richreports~=0.2 in /home/amardeep/jupyter_env/lib/python3.10/site-packages (from nada-dsl<0.7.0,>=0.6.3->nada_numpy) (0.2.0)\n",
      "Requirement already satisfied: asttokens~=2.4 in /home/amardeep/jupyter_env/lib/python3.10/site-packages (from nada-dsl<0.7.0,>=0.6.3->nada_numpy) (2.4.1)\n",
      "Requirement already satisfied: sortedcontainers~=2.4 in /home/amardeep/jupyter_env/lib/python3.10/site-packages (from nada-dsl<0.7.0,>=0.6.3->nada_numpy) (2.4.0)\n",
      "Requirement already satisfied: pytest-asyncio<0.24.0,>=0.23.7 in /home/amardeep/jupyter_env/lib/python3.10/site-packages (from nillion-python-helpers<0.4.0,>=0.3.0->nada_numpy) (0.23.8)\n",
      "Requirement already satisfied: python-dotenv==1.0.0 in /home/amardeep/jupyter_env/lib/python3.10/site-packages (from nillion-python-helpers<0.4.0,>=0.3.0->nada_numpy) (1.0.0)\n",
      "Requirement already satisfied: cosmpy<0.10.0,>=0.9.2 in /home/amardeep/jupyter_env/lib/python3.10/site-packages (from nillion-python-helpers<0.4.0,>=0.3.0->nada_numpy) (0.9.2)\n",
      "Requirement already satisfied: protobuf<5.0.dev0,>=4.21.6 in /home/amardeep/jupyter_env/lib/python3.10/site-packages (from py-nillion-client<0.7.0,>=0.6.0->nada_numpy) (4.25.5)\n",
      "Requirement already satisfied: six>=1.12.0 in /home/amardeep/jupyter_env/lib/python3.10/site-packages (from asttokens~=2.4->nada-dsl<0.7.0,>=0.6.3->nada_numpy) (1.16.0)\n",
      "Requirement already satisfied: ecdsa in /home/amardeep/jupyter_env/lib/python3.10/site-packages (from cosmpy<0.10.0,>=0.9.2->nillion-python-helpers<0.4.0,>=0.3.0->nada_numpy) (0.19.0)\n",
      "Requirement already satisfied: python-dateutil in /home/amardeep/jupyter_env/lib/python3.10/site-packages (from cosmpy<0.10.0,>=0.9.2->nillion-python-helpers<0.4.0,>=0.3.0->nada_numpy) (2.9.0.post0)\n",
      "Requirement already satisfied: pycryptodome<4.0.0,>=3.18.0 in /home/amardeep/jupyter_env/lib/python3.10/site-packages (from cosmpy<0.10.0,>=0.9.2->nillion-python-helpers<0.4.0,>=0.3.0->nada_numpy) (3.21.0)\n",
      "Requirement already satisfied: bech32 in /home/amardeep/jupyter_env/lib/python3.10/site-packages (from cosmpy<0.10.0,>=0.9.2->nillion-python-helpers<0.4.0,>=0.3.0->nada_numpy) (1.2.0)\n",
      "Requirement already satisfied: jsonschema<5,>=3.2.0 in /home/amardeep/jupyter_env/lib/python3.10/site-packages (from cosmpy<0.10.0,>=0.9.2->nillion-python-helpers<0.4.0,>=0.3.0->nada_numpy) (4.23.0)\n",
      "Requirement already satisfied: grpcio in /home/amardeep/jupyter_env/lib/python3.10/site-packages (from cosmpy<0.10.0,>=0.9.2->nillion-python-helpers<0.4.0,>=0.3.0->nada_numpy) (1.66.2)\n",
      "Requirement already satisfied: requests in /home/amardeep/jupyter_env/lib/python3.10/site-packages (from cosmpy<0.10.0,>=0.9.2->nillion-python-helpers<0.4.0,>=0.3.0->nada_numpy) (2.32.3)\n",
      "Requirement already satisfied: googleapis-common-protos in /home/amardeep/jupyter_env/lib/python3.10/site-packages (from cosmpy<0.10.0,>=0.9.2->nillion-python-helpers<0.4.0,>=0.3.0->nada_numpy) (1.65.0)\n",
      "Requirement already satisfied: pytest<9,>=7.0.0 in /home/amardeep/jupyter_env/lib/python3.10/site-packages (from pytest-asyncio<0.24.0,>=0.23.7->nillion-python-helpers<0.4.0,>=0.3.0->nada_numpy) (8.3.3)\n",
      "Requirement already satisfied: attrs>=22.2.0 in /home/amardeep/jupyter_env/lib/python3.10/site-packages (from jsonschema<5,>=3.2.0->cosmpy<0.10.0,>=0.9.2->nillion-python-helpers<0.4.0,>=0.3.0->nada_numpy) (24.2.0)\n",
      "Requirement already satisfied: referencing>=0.28.4 in /home/amardeep/jupyter_env/lib/python3.10/site-packages (from jsonschema<5,>=3.2.0->cosmpy<0.10.0,>=0.9.2->nillion-python-helpers<0.4.0,>=0.3.0->nada_numpy) (0.35.1)\n",
      "Requirement already satisfied: jsonschema-specifications>=2023.03.6 in /home/amardeep/jupyter_env/lib/python3.10/site-packages (from jsonschema<5,>=3.2.0->cosmpy<0.10.0,>=0.9.2->nillion-python-helpers<0.4.0,>=0.3.0->nada_numpy) (2023.12.1)\n",
      "Requirement already satisfied: rpds-py>=0.7.1 in /home/amardeep/jupyter_env/lib/python3.10/site-packages (from jsonschema<5,>=3.2.0->cosmpy<0.10.0,>=0.9.2->nillion-python-helpers<0.4.0,>=0.3.0->nada_numpy) (0.20.0)\n",
      "Requirement already satisfied: pluggy<2,>=1.5 in /home/amardeep/jupyter_env/lib/python3.10/site-packages (from pytest<9,>=7.0.0->pytest-asyncio<0.24.0,>=0.23.7->nillion-python-helpers<0.4.0,>=0.3.0->nada_numpy) (1.5.0)\n",
      "Requirement already satisfied: tomli>=1 in /home/amardeep/jupyter_env/lib/python3.10/site-packages (from pytest<9,>=7.0.0->pytest-asyncio<0.24.0,>=0.23.7->nillion-python-helpers<0.4.0,>=0.3.0->nada_numpy) (2.0.2)\n",
      "Requirement already satisfied: exceptiongroup>=1.0.0rc8 in /home/amardeep/jupyter_env/lib/python3.10/site-packages (from pytest<9,>=7.0.0->pytest-asyncio<0.24.0,>=0.23.7->nillion-python-helpers<0.4.0,>=0.3.0->nada_numpy) (1.2.2)\n",
      "Requirement already satisfied: packaging in /home/amardeep/jupyter_env/lib/python3.10/site-packages (from pytest<9,>=7.0.0->pytest-asyncio<0.24.0,>=0.23.7->nillion-python-helpers<0.4.0,>=0.3.0->nada_numpy) (24.1)\n",
      "Requirement already satisfied: iniconfig in /home/amardeep/jupyter_env/lib/python3.10/site-packages (from pytest<9,>=7.0.0->pytest-asyncio<0.24.0,>=0.23.7->nillion-python-helpers<0.4.0,>=0.3.0->nada_numpy) (2.0.0)\n",
      "Requirement already satisfied: certifi>=2017.4.17 in /home/amardeep/jupyter_env/lib/python3.10/site-packages (from requests->cosmpy<0.10.0,>=0.9.2->nillion-python-helpers<0.4.0,>=0.3.0->nada_numpy) (2024.8.30)\n",
      "Requirement already satisfied: charset-normalizer<4,>=2 in /home/amardeep/jupyter_env/lib/python3.10/site-packages (from requests->cosmpy<0.10.0,>=0.9.2->nillion-python-helpers<0.4.0,>=0.3.0->nada_numpy) (3.3.2)\n",
      "Requirement already satisfied: urllib3<3,>=1.21.1 in /home/amardeep/jupyter_env/lib/python3.10/site-packages (from requests->cosmpy<0.10.0,>=0.9.2->nillion-python-helpers<0.4.0,>=0.3.0->nada_numpy) (2.2.3)\n",
      "Requirement already satisfied: idna<4,>=2.5 in /home/amardeep/jupyter_env/lib/python3.10/site-packages (from requests->cosmpy<0.10.0,>=0.9.2->nillion-python-helpers<0.4.0,>=0.3.0->nada_numpy) (3.10)\n"
     ]
    }
   ],
   "source": [
    "!pip install numpy\n",
    "!pip install nada_numpy"
   ]
  },
  {
   "cell_type": "markdown",
   "id": "f8485b0518d8438d",
   "metadata": {},
   "source": [
    "Let's load the genomic data from the sample 23andMe file."
   ]
  },
  {
   "cell_type": "code",
   "execution_count": 19,
   "id": "initial_id",
   "metadata": {
    "ExecuteTime": {
     "end_time": "2024-08-22T13:57:21.425536Z",
     "start_time": "2024-08-22T13:57:21.319781Z"
    }
   },
   "outputs": [],
   "source": [
    "import os\n",
    "import numpy as np\n",
    "import re\n",
    "\n",
    "def read_and_process_23andme(file_path, num_lines=None):\n",
    "    # Check if the file exists\n",
    "    if not os.path.exists(file_path):\n",
    "        raise FileNotFoundError(f\"The file {file_path} does not exist.\")\n",
    "\n",
    "    # Genotype to integer mapping\n",
    "    genotype_to_int = {\n",
    "        \"AA\": 0, \"AC\": 1, \"AG\": 2, \"AT\": 3,\n",
    "        \"CC\": 4, \"CG\": 5, \"CT\": 6,\n",
    "        \"GG\": 7, \"GT\": 8,\n",
    "        \"TT\": 9\n",
    "    }\n",
    "\n",
    "    results = []\n",
    "\n",
    "    with open(file_path, 'r', encoding='utf-8') as file:\n",
    "        lines_read = 0\n",
    "        for line in file:\n",
    "            if num_lines is not None and lines_read >= num_lines:\n",
    "                break\n",
    "\n",
    "            if line.startswith('#'):\n",
    "                continue\n",
    "\n",
    "            parts = line.strip().split('\\t')\n",
    "            if len(parts) < 4:\n",
    "                continue\n",
    "\n",
    "            rsid, chromosome, position, genotype = parts\n",
    "\n",
    "            # Extract only the numbers from rsid\n",
    "            rsid_int = int(re.sub(r'\\D', '', rsid))\n",
    "\n",
    "            genotype_int = genotype_to_int.get(genotype, -1)  # Use -1 for unrecognized genotypes\n",
    "\n",
    "            # Convert chromosome to int if possible, otherwise use -1\n",
    "            try:\n",
    "                chrom_int = int(chromosome)\n",
    "            except ValueError:\n",
    "                chrom_int = -1  # Use -1 for non-numeric chromosomes (e.g., 'X', 'Y', 'MT')\n",
    "\n",
    "            results.append([rsid_int, chrom_int, int(position), genotype_int])\n",
    "\n",
    "            lines_read += 1\n",
    "\n",
    "    return np.array(results, dtype=int)"
   ]
  },
  {
   "cell_type": "code",
   "execution_count": 26,
   "id": "d2ede7bba4a995b0",
   "metadata": {
    "ExecuteTime": {
     "end_time": "2024-08-22T14:24:49.198120Z",
     "start_time": "2024-08-22T14:24:47.342660Z"
    }
   },
   "outputs": [
    {
     "data": {
      "text/plain": [
       "array([[548049170,         1,     69869,         9],\n",
       "       [  9283150,         1,    565508,         0],\n",
       "       [116587930,         1,    727841,         7],\n",
       "       ...,\n",
       "       [143461987,         1,  19099907,         0],\n",
       "       [  6603908,         1,  19100057,         6],\n",
       "       [  4920344,         1,  19104381,         2]])"
      ]
     },
     "execution_count": 26,
     "metadata": {},
     "output_type": "execute_result"
    }
   ],
   "source": [
    "gene_data = read_and_process_23andme('testdata/hu278AF5_20210124151934.txt', 5000)\n",
    "gene_data[:5000, :]"
   ]
  },
  {
   "cell_type": "code",
   "execution_count": 25,
   "id": "c1d96e2ea2220a9b",
   "metadata": {
    "ExecuteTime": {
     "end_time": "2024-08-22T14:34:09.411111Z",
     "start_time": "2024-08-22T14:34:09.406476Z"
    }
   },
   "outputs": [
    {
     "data": {
      "text/plain": [
       "(5000, 4)"
      ]
     },
     "execution_count": 25,
     "metadata": {},
     "output_type": "execute_result"
    }
   ],
   "source": [
    "gene_data.shape"
   ]
  },
  {
   "cell_type": "markdown",
   "id": "40ccec22482ad3d6",
   "metadata": {},
   "source": [
    "Let's do some Nillon setup."
   ]
  },
  {
   "cell_type": "code",
   "execution_count": 27,
   "id": "84da614cf4520b6c",
   "metadata": {
    "ExecuteTime": {
     "end_time": "2024-08-21T23:38:46.733896Z",
     "start_time": "2024-08-21T23:38:46.710257Z"
    }
   },
   "outputs": [
    {
     "name": "stdout",
     "output_type": "stream",
     "text": [
      "Loading environment variables from /home/amardeep/.config/nillion/nillion-devnet.env\n",
      "NILLION_CLUSTER_ID: 9e68173f-9c23-4acc-ba81-4f079b639964\n",
      "NILLION_BOOTNODE_MULTIADDRESS: /ip4/127.0.0.1/tcp/37939/p2p/12D3KooWMvw1hEqm7EWSDEyqTb6pNetUVkepahKY6hixuAuMZfJS\n",
      "NILLION_BOOTNODE_WEBSOCKET: /ip4/127.0.0.1/tcp/54936/ws/p2p/12D3KooWMvw1hEqm7EWSDEyqTb6pNetUVkepahKY6hixuAuMZfJS\n",
      "NILLION_NILCHAIN_CHAIN_ID: nillion-chain-devnet\n",
      "NILLION_NILCHAIN_JSON_RPC: http://127.0.0.1:48102\n",
      "NILLION_NILCHAIN_REST_API: http://localhost:26650\n",
      "NILLION_NILCHAIN_GRPC: localhost:26649\n",
      "NILLION_NILCHAIN_PRIVATE_KEY_0: 9a975f567428d054f2bf3092812e6c42f901ce07d9711bc77ee2cd81101f42c5\n",
      "NILLION_NILCHAIN_PRIVATE_KEY_1: 1e491133b9408b39572a29f91644873decea554224b20e2b0b923aeb860a1c18\n",
      "NILLION_NILCHAIN_PRIVATE_KEY_2: 980488572f235316cdb330191f8bafe4e635efbe88b3a40f5bee9bd21047c059\n",
      "NILLION_NILCHAIN_PRIVATE_KEY_3: 612bb5173dc60d9e91404fcc0d1f1847fb4459a7d5160d63d84e91aacbf2ab2f\n",
      "NILLION_NILCHAIN_PRIVATE_KEY_4: 04f5a984eeea9dce4e5e907da69c01a61568e3071b1a91cbed89225f9fd913b5\n",
      "NILLION_NILCHAIN_PRIVATE_KEY_5: 5f992c58921f4af83b4c6b650c4914626664cd02020577b0ada49cfa00d2c8a4\n",
      "NILLION_NILCHAIN_PRIVATE_KEY_6: 8f0297d3bb647eb59b95b29550b2aebbedd9be2c954b000e772efe8c9318a42d\n",
      "NILLION_NILCHAIN_PRIVATE_KEY_7: c395243df9bb68dc809668efe4125f0eb017771ed8e3747b8d6860551913fecb\n",
      "NILLION_NILCHAIN_PRIVATE_KEY_8: 4bb5eaa799e24ae2b48545c41331921afe7e6a8dd7a850f5fbeb20a8226664ec\n",
      "NILLION_NILCHAIN_PRIVATE_KEY_9: ef4b944d4fdb0077057925fe2dde365dfa2c83cf320463b14589feccd1b2b938\n",
      "Deprecation warning: payments_endpoint should start with http:// or https://\n"
     ]
    }
   ],
   "source": [
    "import os\n",
    "import py_nillion_client as nillion\n",
    "from py_nillion_client import NodeKey, UserKey\n",
    "from dotenv import load_dotenv\n",
    "from nillion_python_helpers import get_quote_and_pay, create_nillion_client, create_payments_config\n",
    "from cosmpy.aerial.client import LedgerClient\n",
    "from cosmpy.aerial.wallet import LocalWallet\n",
    "from cosmpy.crypto.keypairs import PrivateKey\n",
    "import uuid\n",
    "\n",
    "home_dir = os.path.expanduser(\"~\")\n",
    "env_path = os.path.join(home_dir, \".config\", \"nillion\", \"nillion-devnet.env\")\n",
    "\n",
    "print(f\"Loading environment variables from {env_path}\")\n",
    "\n",
    "load_dotenv(env_path)\n",
    "for key, value in os.environ.items():\n",
    "    if key.startswith(\"NILLION_\"):\n",
    "        print(f\"{key}: {value}\")\n",
    "\n",
    "cluster_id = os.getenv('NILLION_CLUSTER_ID')\n",
    "chain_id = os.getenv('NILLION_NILCHAIN_CHAIN_ID')\n",
    "grpc_endpoint = os.getenv('NILLION_NILCHAIN_GRPC')\n",
    "\n",
    "monadic_seed = \"monadic_seed\"\n",
    "monadic_userkey = UserKey.from_seed(monadic_seed)\n",
    "monadic_client = create_nillion_client(monadic_userkey, NodeKey.from_seed(uuid.uuid4().hex))\n",
    "monadic_party_id = monadic_client.party_id\n",
    "monadic_user_id = monadic_client.user_id\n",
    "\n",
    "payments_config = create_payments_config(chain_id, grpc_endpoint)\n",
    "payments_client = LedgerClient(payments_config)\n",
    "payments_wallet = LocalWallet(\n",
    "    PrivateKey(bytes.fromhex(os.getenv(\"NILLION_NILCHAIN_PRIVATE_KEY_0\"))),\n",
    "    prefix=\"nillion\",\n",
    ")"
   ]
  },
  {
   "cell_type": "markdown",
   "id": "8d964ddbdf389117",
   "metadata": {},
   "source": [
    "Adapting a utility function from https://github.com/NillionNetwork/nada-numpy/blob/8dbf08c0ee840cab8b6103ef1d7dc5dcf438d442/examples/common/utils.py#L158. "
   ]
  },
  {
   "cell_type": "code",
   "execution_count": 28,
   "id": "2740bbe472dbdffb",
   "metadata": {
    "ExecuteTime": {
     "end_time": "2024-08-21T23:38:48.516561Z",
     "start_time": "2024-08-21T23:38:48.512197Z"
    }
   },
   "outputs": [],
   "source": [
    "from typing import Any\n",
    "import nada_numpy.client as na_client\n",
    "\n",
    "async def store_secret_array(\n",
    "        client: nillion.NillionClient,\n",
    "        payments_wallet: LocalWallet,\n",
    "        payments_client: LedgerClient,\n",
    "        cluster_id: str,\n",
    "        secret_array: np.ndarray,\n",
    "        secret_name: str,\n",
    "        nada_type: Any,\n",
    "        ttl_days: int = 1,\n",
    "        permissions: nillion.Permissions = None,\n",
    "):\n",
    "\n",
    "    # Create a secret\n",
    "    stored_secret = nillion.NadaValues(\n",
    "        na_client.array(secret_array, secret_name, nada_type)\n",
    "    )\n",
    "\n",
    "    # Get cost quote, then pay for operation to store the secret\n",
    "    receipt_store = await get_quote_and_pay(\n",
    "        client,\n",
    "        nillion.Operation.store_values(stored_secret, ttl_days=ttl_days),\n",
    "        payments_wallet,\n",
    "        payments_client,\n",
    "        cluster_id,\n",
    "    )\n",
    "\n",
    "    # Store a secret, passing in the receipt that shows proof of payment\n",
    "    store_id = await client.store_values(\n",
    "        cluster_id, stored_secret, permissions, receipt_store\n",
    "    )\n",
    "    return store_id"
   ]
  },
  {
   "cell_type": "markdown",
   "id": "19a8548d0ceb970",
   "metadata": {},
   "source": [
    "And now..the moment of truth!"
   ]
  },
  {
   "cell_type": "code",
   "execution_count": 29,
   "id": "ad961c332478c206",
   "metadata": {
    "ExecuteTime": {
     "end_time": "2024-08-21T23:38:51.468043Z",
     "start_time": "2024-08-21T23:38:50.723226Z"
    }
   },
   "outputs": [
    {
     "name": "stdout",
     "output_type": "stream",
     "text": [
      "Getting quote for operation...\n",
      "Quote cost is 1920002 unil\n",
      "Submitting payment receipt 1920002 unil, tx hash A84327D511AD28A469259FDFB9B09A80029D7E839E6DC86A335276B77C510EC7\n"
     ]
    }
   ],
   "source": [
    "permissions = nillion.Permissions.default_for_user(monadic_user_id)\n",
    "\n",
    "store_id = await store_secret_array(\n",
    "    monadic_client,\n",
    "    payments_wallet,\n",
    "    payments_client,\n",
    "    cluster_id,\n",
    "    gene_data,\n",
    "    \"gene_data\",\n",
    "    nillion.SecretInteger,\n",
    "    1,\n",
    "    permissions,\n",
    ")"
   ]
  },
  {
   "cell_type": "markdown",
   "id": "755c0d8d6ef4ceb6",
   "metadata": {},
   "source": [
    "Here are the results so far:\n",
    "\n",
    "* 1 record - 2s 545ms\n",
    "* 10 records - 2s 212ms\n",
    "* 100 records - 3s 5ms\n",
    "* 1000 records - 3s 104ms\n",
    "\n",
    "We now need to break the 10,000 record barrier!"
   ]
  },
  {
   "cell_type": "code",
   "execution_count": 31,
   "id": "a019086389c4aff",
   "metadata": {
    "ExecuteTime": {
     "end_time": "2024-08-22T14:41:58.625914Z",
     "start_time": "2024-08-22T14:41:58.616792Z"
    }
   },
   "outputs": [
    {
     "data": {
      "text/plain": [
       "array([[548049170,         1,     69869,         9]])"
      ]
     },
     "execution_count": 31,
     "metadata": {},
     "output_type": "execute_result"
    }
   ],
   "source": [
    "gene_data[gene_data[:, 0] == 548049170]"
   ]
  },
  {
   "cell_type": "code",
   "execution_count": 32,
   "id": "273585be787988f6",
   "metadata": {
    "ExecuteTime": {
     "end_time": "2024-08-22T14:44:11.011121Z",
     "start_time": "2024-08-22T14:44:11.003410Z"
    }
   },
   "outputs": [
    {
     "name": "stdout",
     "output_type": "stream",
     "text": [
      "[[548049170         1     69869         9]]\n",
      "True\n"
     ]
    }
   ],
   "source": [
    "target_snp_1 = 548049170\n",
    "target_genotype_1 = 9\n",
    "\n",
    "rows_of_interest = gene_data[gene_data[:, 0] == target_snp_1]\n",
    "is_successful = rows_of_interest[0, 3] == target_genotype_1\n",
    "print(rows_of_interest)\n",
    "print(is_successful)"
   ]
  },
  {
   "cell_type": "markdown",
   "id": "90fb5425f9d91736",
   "metadata": {},
   "source": [
    "Now let's do it using a Nada program."
   ]
  },
  {
   "cell_type": "code",
   "execution_count": 33,
   "id": "75b84800-548e-4335-b1fd-7b320123c32c",
   "metadata": {},
   "outputs": [],
   "source": [
    "import uuid\n",
    "def gen_node_key():\n",
    "    return NodeKey.from_seed(uuid.uuid4().hex)"
   ]
  },
  {
   "cell_type": "code",
   "execution_count": 34,
   "id": "445ed311-b674-48f0-bbae-0d612a687a40",
   "metadata": {},
   "outputs": [],
   "source": [
    "patient_seed = \"patient_seed\"\n",
    "patient_userkey = UserKey.from_seed(patient_seed)\n",
    "patient_client = create_nillion_client(patient_userkey, gen_node_key())\n",
    "patient_party_id = patient_client.party_id\n",
    "patient_user_id = patient_client.user_id\n"
   ]
  },
  {
   "cell_type": "code",
   "execution_count": 35,
   "id": "9c073be6-3e83-4c97-8dea-782bb7e1061c",
   "metadata": {},
   "outputs": [],
   "source": [
    "program_name = \"snp-test\"\n",
    "program_mir_path = f\"binaries/snp-test.nada.bin\""
   ]
  },
  {
   "cell_type": "code",
   "execution_count": 36,
   "id": "0408f81e-be21-4e1d-82c3-837422b19304",
   "metadata": {},
   "outputs": [
    {
     "name": "stdout",
     "output_type": "stream",
     "text": [
      "The patient is storing the program on the network\n"
     ]
    }
   ],
   "source": [
    "# Function to store the program\n",
    "import os\n",
    "\n",
    "os.environ['RUST_BACKTRACE'] = '1'\n",
    "\n",
    "print(\"The patient is storing the program on the network\")\n",
    "\n",
    "async def store_program(client, program_name, program_mir_path):\n",
    "    print(f\"Storing the program '{program_name}' on the network\")\n",
    "    receipt_store_program = await get_quote_and_pay(\n",
    "        patient_client,\n",
    "        nillion.Operation.store_program(program_mir_path),\n",
    "        payments_wallet,\n",
    "        payments_client,\n",
    "        cluster_id,\n",
    "    )\n",
    "    action_id = await patient_client.store_program(\n",
    "        cluster_id, program_name, program_mir_path, receipt_store_program\n",
    "    )\n",
    "    return action_id"
   ]
  },
  {
   "cell_type": "code",
   "execution_count": 37,
   "id": "49133e0c-34a7-435b-9d9b-84325aa958cd",
   "metadata": {},
   "outputs": [],
   "source": [
    "# Function to store secret data\n",
    "async def store_secret(client, user_id, program_name, input_snp, input_genotype):\n",
    "    print(\"Storing the secret SNP and genotype data on the network\")\n",
    "    program_id = f\"{patient_user_id}/{program_name}\"\n",
    "    new_secret = nillion.NadaValues({\n",
    "        \"input_snp\": nillion.SecretInteger(input_snp),\n",
    "        \"input_genotype\": nillion.SecretInteger(input_genotype),\n",
    "    })\n",
    "    permissions = nillion.Permissions.default_for_user(patient_user_id)\n",
    "    permissions.add_compute_permissions({user_id: {program_id}})\n",
    "    receipt_store = await get_quote_and_pay(\n",
    "        patient_client,\n",
    "        nillion.Operation.store_values(new_secret, ttl_days=5),\n",
    "        payments_wallet,\n",
    "        payments_client,\n",
    "        cluster_id,\n",
    "    )\n",
    "    store_id = await patient_client.store_values(\n",
    "        cluster_id, new_secret, permissions, receipt_store\n",
    "    )\n",
    "    return store_id"
   ]
  },
  {
   "cell_type": "code",
   "execution_count": 38,
   "id": "8047f85b-b5db-40f5-b90a-6e86c58b5d18",
   "metadata": {},
   "outputs": [],
   "source": [
    "# Function to compute on secret data\n",
    "async def compute_on_secret(client, user_id, program_name, party_id, store_id):\n",
    "    print(\"Running the SNP matching program on the secret data\")\n",
    "    program_id = f\"{patient_user_id}/{program_name}\"\n",
    "    party_name = \"Party1\"\n",
    "    compute_bindings = nillion.ProgramBindings(program_id)\n",
    "    compute_bindings.add_input_party(party_name, patient_party_id)\n",
    "    compute_bindings.add_output_party(party_name, patient_party_id)\n",
    "    computation_time_secrets = nillion.NadaValues({})\n",
    "    receipt_compute = await get_quote_and_pay(\n",
    "        patient_client,\n",
    "        nillion.Operation.compute(program_id, computation_time_secrets),\n",
    "        payments_wallet,\n",
    "        payments_client,\n",
    "        cluster_id,\n",
    "    )\n",
    "    compute_id = await client.compute(\n",
    "        cluster_id,\n",
    "        compute_bindings,\n",
    "        [store_id],\n",
    "        computation_time_secrets,\n",
    "        receipt_compute,\n",
    "    )\n",
    "    return compute_id"
   ]
  },
  {
   "cell_type": "code",
   "execution_count": 39,
   "id": "ecebfdd1-e8ad-4b7b-be79-097a198434f0",
   "metadata": {},
   "outputs": [],
   "source": [
    "async def main():\n",
    "    # Store the program\n",
    "    action_id = await store_program(patient_client, program_name, program_mir_path)\n",
    "    print(f\"Program stored. Action ID: {action_id}\")\n",
    "\n",
    "    # Store the secret data (example values)\n",
    "    input_snp = 13  # rs548049170\n",
    "    input_genotype = 9  # TT genotype\n",
    "    store_id = await store_secret(patient_client, patient_user_id, program_name, input_snp, input_genotype)\n",
    "    print(f\"Secret data stored. Store ID: {store_id}\")\n",
    "\n",
    "    # Compute on the secret\n",
    "    compute_id = await compute_on_secret(patient_client, patient_user_id, program_name, patient_party_id, store_id)\n",
    "    print(f\"Computation sent to the network. Compute ID: {compute_id}\")\n",
    "\n",
    "    # Wait for and print the result\n",
    "    while True:\n",
    "        compute_event = await patient_client.next_compute_event()\n",
    "        if isinstance(compute_event, nillion.ComputeFinishedEvent):\n",
    "            print(f\"✅ Compute complete for compute_id {compute_event.uuid}\")\n",
    "            print(f\"🖥️ The result is {compute_event.result.value}\")\n",
    "            break\n"
   ]
  },
  {
   "cell_type": "code",
   "execution_count": 40,
   "id": "edb0c6fc-8f8c-4423-8ca8-43ddf7ba6c88",
   "metadata": {},
   "outputs": [
    {
     "name": "stdout",
     "output_type": "stream",
     "text": [
      "Storing the program 'snp-test' on the network\n",
      "Getting quote for operation...\n",
      "Quote cost is 2 unil\n",
      "Submitting payment receipt 2 unil, tx hash 725F5EEE13B51B5AA8151B81332A33D3640B8D0268259A7C0913AD3A7CF3A1F6\n",
      "Program stored. Action ID: 229XQCZoSQk9zDx4ixKXg8wAqCy7HnmUjcTuMe7D1bUVhNG7kYNF4xeZYjRsEtJUhKFvXwfM65ixFWDRhptfHCqw/snp-test\n",
      "Storing the secret SNP and genotype data on the network\n",
      "Getting quote for operation...\n",
      "Quote cost is 962 unil\n",
      "Submitting payment receipt 962 unil, tx hash D5A4FEFCA08120A2B67BFD82211D43E779A2517074C65C4E9491CAF528ECBF00\n",
      "Secret data stored. Store ID: e2287b2d-6f02-4fd7-a841-1a81caca825c\n",
      "Running the SNP matching program on the secret data\n",
      "Getting quote for operation...\n",
      "Quote cost is 19 unil\n",
      "Submitting payment receipt 19 unil, tx hash 5255444B40ED906455BADD3E2D43BBB857506E81FD99D7FD46FB3FB3FFD804C4\n",
      "Computation sent to the network. Compute ID: 6501007f-9ad8-4616-8dfb-da8b7ef0ddc3\n",
      "✅ Compute complete for compute_id 6501007f-9ad8-4616-8dfb-da8b7ef0ddc3\n",
      "🖥️ The result is {'match_result': 1}\n"
     ]
    }
   ],
   "source": [
    "await main()"
   ]
  },
  {
   "cell_type": "code",
   "execution_count": null,
   "id": "79e1396c-aec0-4695-bfb5-5d7fde5c8e3e",
   "metadata": {},
   "outputs": [],
   "source": []
  }
 ],
 "metadata": {
  "kernelspec": {
   "display_name": "Python 3 (ipykernel)",
   "language": "python",
   "name": "python3"
  },
  "language_info": {
   "codemirror_mode": {
    "name": "ipython",
    "version": 3
   },
   "file_extension": ".py",
   "mimetype": "text/x-python",
   "name": "python",
   "nbconvert_exporter": "python",
   "pygments_lexer": "ipython3",
   "version": "3.10.12"
  }
 },
 "nbformat": 4,
 "nbformat_minor": 5
}
