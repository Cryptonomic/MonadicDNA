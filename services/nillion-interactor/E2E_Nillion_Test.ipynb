{
 "cells": [
  {
   "cell_type": "markdown",
   "metadata": {
    "id": "JaUba7vsukRz"
   },
   "source": [
    "This workbook represent an end to end test of the Nillion network. It will test the following:\n",
    "1. A user (patient) uploading their data in encrypted form and providing access to Monadic\n",
    "2. Monadic giving compute access to Snipper, a third party\n",
    "3. Snipper registering a program and running in on the patient's encrypted data\n",
    "\n",
    "Before running this workbook, ensure Nillion Devnet is running. "
   ]
  },
  {
   "cell_type": "markdown",
   "metadata": {},
   "source": [
    "Install all Python prerequisites. "
   ]
  },
  {
   "cell_type": "code",
   "execution_count": 1,
   "metadata": {
    "ExecuteTime": {
     "end_time": "2024-08-09T19:26:51.222994Z",
     "start_time": "2024-08-09T19:26:43.883908Z"
    },
    "colab": {
     "base_uri": "https://localhost:8080/"
    },
    "id": "JAGtpt87u119",
    "outputId": "2d8deba3-069f-4449-df93-f58ba31841f5"
   },
   "outputs": [
    {
     "name": "stdout",
     "output_type": "stream",
     "text": [
      "Requirement already satisfied: nada-dsl==0.7.2 in /home/hello/Projects/MonadicDNA/.venv/lib/python3.12/site-packages (0.7.2)\n",
      "Requirement already satisfied: asttokens~=2.4 in /home/hello/Projects/MonadicDNA/.venv/lib/python3.12/site-packages (from nada-dsl==0.7.2) (2.4.1)\n",
      "Requirement already satisfied: richreports~=0.2 in /home/hello/Projects/MonadicDNA/.venv/lib/python3.12/site-packages (from nada-dsl==0.7.2) (0.2.0)\n",
      "Requirement already satisfied: parsial~=0.1 in /home/hello/Projects/MonadicDNA/.venv/lib/python3.12/site-packages (from nada-dsl==0.7.2) (0.1.0)\n",
      "Requirement already satisfied: sortedcontainers~=2.4 in /home/hello/Projects/MonadicDNA/.venv/lib/python3.12/site-packages (from nada-dsl==0.7.2) (2.4.0)\n",
      "Requirement already satisfied: typing_extensions~=4.12.2 in /home/hello/Projects/MonadicDNA/.venv/lib/python3.12/site-packages (from nada-dsl==0.7.2) (4.12.2)\n",
      "Requirement already satisfied: six>=1.12.0 in /home/hello/Projects/MonadicDNA/.venv/lib/python3.12/site-packages (from asttokens~=2.4->nada-dsl==0.7.2) (1.17.0)\n",
      "Note: you may need to restart the kernel to use updated packages.\n",
      "Requirement already satisfied: python-dotenv==1.0.0 in /home/hello/Projects/MonadicDNA/.venv/lib/python3.12/site-packages (1.0.0)\n",
      "Note: you may need to restart the kernel to use updated packages.\n",
      "Requirement already satisfied: nillion_client==0.1.1 in /home/hello/Projects/MonadicDNA/.venv/lib/python3.12/site-packages (0.1.1)\n",
      "Requirement already satisfied: cosmpy==0.9.2 in /home/hello/Projects/MonadicDNA/.venv/lib/python3.12/site-packages (from nillion_client==0.1.1) (0.9.2)\n",
      "Requirement already satisfied: secp256k1==0.14.0 in /home/hello/Projects/MonadicDNA/.venv/lib/python3.12/site-packages (from nillion_client==0.1.1) (0.14.0)\n",
      "Requirement already satisfied: base58==2.1.1 in /home/hello/Projects/MonadicDNA/.venv/lib/python3.12/site-packages (from nillion_client==0.1.1) (2.1.1)\n",
      "Requirement already satisfied: tenacity==9.0.0 in /home/hello/Projects/MonadicDNA/.venv/lib/python3.12/site-packages (from nillion_client==0.1.1) (9.0.0)\n",
      "Requirement already satisfied: nillion-client-core==0.1.1 in /home/hello/Projects/MonadicDNA/.venv/lib/python3.12/site-packages (from nillion_client==0.1.1) (0.1.1)\n",
      "Requirement already satisfied: nillion-client-proto==0.1.1 in /home/hello/Projects/MonadicDNA/.venv/lib/python3.12/site-packages (from nillion_client==0.1.1) (0.1.1)\n",
      "Requirement already satisfied: pyyaml==6.0.2 in /home/hello/Projects/MonadicDNA/.venv/lib/python3.12/site-packages (from nillion_client==0.1.1) (6.0.2)\n",
      "Requirement already satisfied: bech32 in /home/hello/Projects/MonadicDNA/.venv/lib/python3.12/site-packages (from cosmpy==0.9.2->nillion_client==0.1.1) (1.2.0)\n",
      "Requirement already satisfied: ecdsa in /home/hello/Projects/MonadicDNA/.venv/lib/python3.12/site-packages (from cosmpy==0.9.2->nillion_client==0.1.1) (0.19.0)\n",
      "Requirement already satisfied: googleapis-common-protos in /home/hello/Projects/MonadicDNA/.venv/lib/python3.12/site-packages (from cosmpy==0.9.2->nillion_client==0.1.1) (1.66.0)\n",
      "Requirement already satisfied: grpcio in /home/hello/Projects/MonadicDNA/.venv/lib/python3.12/site-packages (from cosmpy==0.9.2->nillion_client==0.1.1) (1.68.1)\n",
      "Requirement already satisfied: jsonschema<5,>=3.2.0 in /home/hello/Projects/MonadicDNA/.venv/lib/python3.12/site-packages (from cosmpy==0.9.2->nillion_client==0.1.1) (4.23.0)\n",
      "Requirement already satisfied: protobuf<5.0dev,>=4.21.6 in /home/hello/Projects/MonadicDNA/.venv/lib/python3.12/site-packages (from cosmpy==0.9.2->nillion_client==0.1.1) (4.25.5)\n",
      "Requirement already satisfied: pycryptodome<4.0.0,>=3.18.0 in /home/hello/Projects/MonadicDNA/.venv/lib/python3.12/site-packages (from cosmpy==0.9.2->nillion_client==0.1.1) (3.21.0)\n",
      "Requirement already satisfied: python-dateutil in /home/hello/Projects/MonadicDNA/.venv/lib/python3.12/site-packages (from cosmpy==0.9.2->nillion_client==0.1.1) (2.9.0.post0)\n",
      "Requirement already satisfied: requests in /home/hello/Projects/MonadicDNA/.venv/lib/python3.12/site-packages (from cosmpy==0.9.2->nillion_client==0.1.1) (2.32.3)\n",
      "Requirement already satisfied: grpcio-tools==1.62.3 in /home/hello/Projects/MonadicDNA/.venv/lib/python3.12/site-packages (from nillion-client-proto==0.1.1->nillion_client==0.1.1) (1.62.3)\n",
      "Requirement already satisfied: betterproto==2.0.0b7 in /home/hello/Projects/MonadicDNA/.venv/lib/python3.12/site-packages (from nillion-client-proto==0.1.1->nillion_client==0.1.1) (2.0.0b7)\n",
      "Requirement already satisfied: cffi>=1.3.0 in /home/hello/Projects/MonadicDNA/.venv/lib/python3.12/site-packages (from secp256k1==0.14.0->nillion_client==0.1.1) (1.17.1)\n",
      "Requirement already satisfied: grpclib<0.5.0,>=0.4.1 in /home/hello/Projects/MonadicDNA/.venv/lib/python3.12/site-packages (from betterproto==2.0.0b7->nillion-client-proto==0.1.1->nillion_client==0.1.1) (0.4.7)\n",
      "Requirement already satisfied: typing-extensions<5.0.0,>=4.7.1 in /home/hello/Projects/MonadicDNA/.venv/lib/python3.12/site-packages (from betterproto==2.0.0b7->nillion-client-proto==0.1.1->nillion_client==0.1.1) (4.12.2)\n",
      "Requirement already satisfied: setuptools in /home/hello/Projects/MonadicDNA/.venv/lib/python3.12/site-packages (from grpcio-tools==1.62.3->nillion-client-proto==0.1.1->nillion_client==0.1.1) (75.6.0)\n",
      "Requirement already satisfied: pycparser in /home/hello/Projects/MonadicDNA/.venv/lib/python3.12/site-packages (from cffi>=1.3.0->secp256k1==0.14.0->nillion_client==0.1.1) (2.22)\n",
      "Requirement already satisfied: attrs>=22.2.0 in /home/hello/Projects/MonadicDNA/.venv/lib/python3.12/site-packages (from jsonschema<5,>=3.2.0->cosmpy==0.9.2->nillion_client==0.1.1) (24.3.0)\n",
      "Requirement already satisfied: jsonschema-specifications>=2023.03.6 in /home/hello/Projects/MonadicDNA/.venv/lib/python3.12/site-packages (from jsonschema<5,>=3.2.0->cosmpy==0.9.2->nillion_client==0.1.1) (2024.10.1)\n",
      "Requirement already satisfied: referencing>=0.28.4 in /home/hello/Projects/MonadicDNA/.venv/lib/python3.12/site-packages (from jsonschema<5,>=3.2.0->cosmpy==0.9.2->nillion_client==0.1.1) (0.35.1)\n",
      "Requirement already satisfied: rpds-py>=0.7.1 in /home/hello/Projects/MonadicDNA/.venv/lib/python3.12/site-packages (from jsonschema<5,>=3.2.0->cosmpy==0.9.2->nillion_client==0.1.1) (0.22.3)\n",
      "Requirement already satisfied: six>=1.5 in /home/hello/Projects/MonadicDNA/.venv/lib/python3.12/site-packages (from python-dateutil->cosmpy==0.9.2->nillion_client==0.1.1) (1.17.0)\n",
      "Requirement already satisfied: charset-normalizer<4,>=2 in /home/hello/Projects/MonadicDNA/.venv/lib/python3.12/site-packages (from requests->cosmpy==0.9.2->nillion_client==0.1.1) (3.4.0)\n",
      "Requirement already satisfied: idna<4,>=2.5 in /home/hello/Projects/MonadicDNA/.venv/lib/python3.12/site-packages (from requests->cosmpy==0.9.2->nillion_client==0.1.1) (3.10)\n",
      "Requirement already satisfied: urllib3<3,>=1.21.1 in /home/hello/Projects/MonadicDNA/.venv/lib/python3.12/site-packages (from requests->cosmpy==0.9.2->nillion_client==0.1.1) (2.2.3)\n",
      "Requirement already satisfied: certifi>=2017.4.17 in /home/hello/Projects/MonadicDNA/.venv/lib/python3.12/site-packages (from requests->cosmpy==0.9.2->nillion_client==0.1.1) (2024.12.14)\n",
      "Requirement already satisfied: h2<5,>=3.1.0 in /home/hello/Projects/MonadicDNA/.venv/lib/python3.12/site-packages (from grpclib<0.5.0,>=0.4.1->betterproto==2.0.0b7->nillion-client-proto==0.1.1->nillion_client==0.1.1) (4.1.0)\n",
      "Requirement already satisfied: multidict in /home/hello/Projects/MonadicDNA/.venv/lib/python3.12/site-packages (from grpclib<0.5.0,>=0.4.1->betterproto==2.0.0b7->nillion-client-proto==0.1.1->nillion_client==0.1.1) (6.1.0)\n",
      "Requirement already satisfied: hyperframe<7,>=6.0 in /home/hello/Projects/MonadicDNA/.venv/lib/python3.12/site-packages (from h2<5,>=3.1.0->grpclib<0.5.0,>=0.4.1->betterproto==2.0.0b7->nillion-client-proto==0.1.1->nillion_client==0.1.1) (6.0.1)\n",
      "Requirement already satisfied: hpack<5,>=4.0 in /home/hello/Projects/MonadicDNA/.venv/lib/python3.12/site-packages (from h2<5,>=3.1.0->grpclib<0.5.0,>=0.4.1->betterproto==2.0.0b7->nillion-client-proto==0.1.1->nillion_client==0.1.1) (4.0.0)\n",
      "Note: you may need to restart the kernel to use updated packages.\n",
      "Requirement already satisfied: cryptography==44.0.0 in /home/hello/Projects/MonadicDNA/.venv/lib/python3.12/site-packages (44.0.0)\n",
      "Requirement already satisfied: cffi>=1.12 in /home/hello/Projects/MonadicDNA/.venv/lib/python3.12/site-packages (from cryptography==44.0.0) (1.17.1)\n",
      "Requirement already satisfied: pycparser in /home/hello/Projects/MonadicDNA/.venv/lib/python3.12/site-packages (from cffi>=1.12->cryptography==44.0.0) (2.22)\n",
      "Note: you may need to restart the kernel to use updated packages.\n"
     ]
    }
   ],
   "source": [
    "%pip install nada-dsl==0.7.2\n",
    "%pip install python-dotenv==1.0.0\n",
    "%pip install nillion_client==0.1.1\n",
    "%pip install cryptography==44.0.0"
   ]
  },
  {
   "cell_type": "markdown",
   "metadata": {},
   "source": [
    "Import all necessary libraries"
   ]
  },
  {
   "cell_type": "code",
   "execution_count": 3,
   "metadata": {
    "ExecuteTime": {
     "end_time": "2024-08-09T23:28:05.762189Z",
     "start_time": "2024-08-09T23:28:05.723159Z"
    },
    "id": "EQCfD717Sb-M"
   },
   "outputs": [],
   "source": [
    "import argparse\n",
    "import asyncio\n",
    "import os\n",
    "\n",
    "from nillion_client import (\n",
    "    InputPartyBinding,\n",
    "    Network,\n",
    "    NilChainPayer,\n",
    "    NilChainPrivateKey,\n",
    "    OutputPartyBinding,\n",
    "    SecretInteger,\n",
    "    UserId,\n",
    "    Permissions,\n",
    "    PermissionsDelta,\n",
    "    VmClient,\n",
    "    PrivateKey,\n",
    ")\n",
    "from dotenv import load_dotenv\n",
    "from nillion_client.ids import UUID\n",
    "from nillion_client.payer import DummyPayer\n",
    "from nillion_client.permissions import (ComputePermissionCommand, ComputePermissions,ComputePermission)\n",
    "import hashlib\n",
    "from ecdsa import SigningKey, SECP256k1"
   ]
  },
  {
   "cell_type": "markdown",
   "metadata": {},
   "source": [
    "Load the environment variables from a Devnet .env file\n",
    "\n",
    "*Please make sure to replace the path with the correct path to your .env file*"
   ]
  },
  {
   "cell_type": "code",
   "execution_count": 4,
   "metadata": {
    "ExecuteTime": {
     "end_time": "2024-08-09T23:28:08.870617Z",
     "start_time": "2024-08-09T23:28:08.850035Z"
    },
    "colab": {
     "base_uri": "https://localhost:8080/"
    },
    "id": "XWsJmklOEeh1",
    "outputId": "fff3de58-4f50-4e09-99f9-d7b6cdb943ed"
   },
   "outputs": [
    {
     "name": "stdout",
     "output_type": "stream",
     "text": [
      "Loading environment variables from /home/hello/.config/nillion/nillion-devnet.env\n",
      "NILLION_CLUSTER_ID: 9e68173f-9c23-4acc-ba81-4f079b639964\n",
      "NILLION_NILCHAIN_CHAIN_ID: nillion-chain-devnet\n",
      "NILLION_NILCHAIN_JSON_RPC: http://127.0.0.1:48102\n",
      "NILLION_NILCHAIN_REST_API: http://localhost:26650\n",
      "NILLION_NILCHAIN_GRPC: http://localhost:26649\n",
      "NILLION_GRPC_ENDPOINT: http://127.0.0.1:37939\n",
      "NILLION_NILCHAIN_PRIVATE_KEY_0: 9a975f567428d054f2bf3092812e6c42f901ce07d9711bc77ee2cd81101f42c5\n",
      "NILLION_NILCHAIN_PRIVATE_KEY_1: 1e491133b9408b39572a29f91644873decea554224b20e2b0b923aeb860a1c18\n",
      "NILLION_NILCHAIN_PRIVATE_KEY_2: 980488572f235316cdb330191f8bafe4e635efbe88b3a40f5bee9bd21047c059\n",
      "NILLION_NILCHAIN_PRIVATE_KEY_3: 612bb5173dc60d9e91404fcc0d1f1847fb4459a7d5160d63d84e91aacbf2ab2f\n",
      "NILLION_NILCHAIN_PRIVATE_KEY_4: 04f5a984eeea9dce4e5e907da69c01a61568e3071b1a91cbed89225f9fd913b5\n",
      "NILLION_NILCHAIN_PRIVATE_KEY_5: 5f992c58921f4af83b4c6b650c4914626664cd02020577b0ada49cfa00d2c8a4\n",
      "NILLION_NILCHAIN_PRIVATE_KEY_6: 8f0297d3bb647eb59b95b29550b2aebbedd9be2c954b000e772efe8c9318a42d\n",
      "NILLION_NILCHAIN_PRIVATE_KEY_7: c395243df9bb68dc809668efe4125f0eb017771ed8e3747b8d6860551913fecb\n",
      "NILLION_NILCHAIN_PRIVATE_KEY_8: 4bb5eaa799e24ae2b48545c41331921afe7e6a8dd7a850f5fbeb20a8226664ec\n",
      "NILLION_NILCHAIN_PRIVATE_KEY_9: ef4b944d4fdb0077057925fe2dde365dfa2c83cf320463b14589feccd1b2b938\n"
     ]
    }
   ],
   "source": [
    "import os\n",
    "\n",
    "home_dir = os.path.expanduser(\"~\")\n",
    "env_path = os.path.join(home_dir, \".config\", \"nillion\", \"nillion-devnet.env\")\n",
    "\n",
    "print(f\"Loading environment variables from {env_path}\")\n",
    "\n",
    "load_dotenv(env_path)\n",
    "\n",
    "for key, value in os.environ.items():\n",
    "    if key.startswith(\"NILLION_\"):\n",
    "        print(f\"{key}: {value}\")"
   ]
  },
  {
   "cell_type": "markdown",
   "metadata": {},
   "source": [
    "Read in some basic Nillion network information from the environment. "
   ]
  },
  {
   "cell_type": "code",
   "execution_count": 8,
   "metadata": {
    "ExecuteTime": {
     "end_time": "2024-08-09T23:28:12.833625Z",
     "start_time": "2024-08-09T23:28:12.815576Z"
    }
   },
   "outputs": [
    {
     "name": "stdout",
     "output_type": "stream",
     "text": [
      "Chain ID: nillion-chain-testnet-1\n",
      "GRPC Endpoint: https://node-1.nucleus2.nillion-network.nilogy.xyz:14311\n"
     ]
    },
    {
     "data": {
      "text/plain": [
       "Network(chain_id='nillion-chain-testnet-1', chain_grpc_endpoint='https://testnet-nillion-grpc.lavenderfive.com', nilvm_grpc_endpoint='https://node-1.nucleus2.nillion-network.nilogy.xyz:14311')"
      ]
     },
     "execution_count": 8,
     "metadata": {},
     "output_type": "execute_result"
    }
   ],
   "source": [
    "use_testnet = False\n",
    "\n",
    "if not use_testnet:\n",
    "    cluster_id = os.getenv('NILLION_CLUSTER_ID')\n",
    "    chain_id = os.getenv('NILLION_NILCHAIN_CHAIN_ID')\n",
    "    nilvm_grpc_endpoint = os.getenv('NILLION_NILCHAIN_GRPC')\n",
    "    payer_userkey_hex:str = os.getenv(\"NILLION_NILCHAIN_PRIVATE_KEY_0\")\n",
    "    monadic_seed = \"monadic_seed\"\n",
    "    monadic_userkey_hex = hashlib.sha256(monadic_seed.encode()).digest().hex()\n",
    "    snipper_seed = \"snipper_seed\"\n",
    "    snipper_userkey_hex = hashlib.sha256(snipper_seed.encode()).digest().hex()\n",
    "    patient_seed = \"patient_seed\"\n",
    "    patient_userkey_hex = hashlib.sha256(patient_seed.encode()).digest().hex()\n",
    "    network:Network = Network.from_config(\"devnet\")\n",
    "else:\n",
    "    chain_id = \"nillion-chain-testnet-1\"\n",
    "    chain_grpc_endpoint = \"https://testnet-nillion-grpc.lavenderfive.com\"\n",
    "    nilvm_grpc_endpoint = \"https://node-1.nucleus2.nillion-network.nilogy.xyz:14311\"\n",
    "    payer_userkey_hex = \"11112217e1ba614ee927fdc38a31b686c7b56976aa92451e89f769b518416112\"\n",
    "    monadic_seed = \"monadic_seed\"\n",
    "    monadic_userkey_hex = hashlib.sha256(monadic_seed.encode()).digest().hex()\n",
    "    snipper_seed = \"snipper_seed\"\n",
    "    snipper_userkey_hex = hashlib.sha256(snipper_seed.encode()).digest().hex()\n",
    "    patient_seed = \"patient_seed\"\n",
    "    patient_userkey_hex = hashlib.sha256(patient_seed.encode()).digest().hex()\n",
    "    network:Network = Network(\n",
    "      chain_grpc_endpoint=chain_grpc_endpoint,\n",
    "      chain_id=chain_id,\n",
    "      nilvm_grpc_endpoint=nilvm_grpc_endpoint  \n",
    "    )\n",
    "    \n",
    "print(f\"Chain ID: {chain_id}\")\n",
    "print(f\"GRPC Endpoint: {nilvm_grpc_endpoint}\")\n",
    "\n",
    "network"
   ]
  },
  {
   "cell_type": "markdown",
   "metadata": {},
   "source": [
    "Setup for the Monadic actor"
   ]
  },
  {
   "cell_type": "code",
   "execution_count": 9,
   "metadata": {
    "ExecuteTime": {
     "end_time": "2024-08-09T23:28:19.828183Z",
     "start_time": "2024-08-09T23:28:19.615786Z"
    }
   },
   "outputs": [],
   "source": [
    "monadic_userkey = NilChainPrivateKey(bytes.fromhex(monadic_userkey_hex))\n",
    "monadic_payer = NilChainPayer(\n",
    "    network,\n",
    "    wallet_private_key=monadic_userkey,\n",
    "    gas_limit=1000,\n",
    ")\n",
    "monadic_client = await VmClient.create(PrivateKey(bytes.fromhex(monadic_userkey_hex)), network, monadic_payer)\n",
    "monadic_user_id = monadic_client.user_id"
   ]
  },
  {
   "cell_type": "markdown",
   "metadata": {},
   "source": [
    "Setup for the Snipper actor"
   ]
  },
  {
   "cell_type": "code",
   "execution_count": 10,
   "metadata": {
    "ExecuteTime": {
     "end_time": "2024-08-09T23:28:22.512975Z",
     "start_time": "2024-08-09T23:28:22.489237Z"
    }
   },
   "outputs": [],
   "source": [
    "snipper_userkey = NilChainPrivateKey(bytes.fromhex(snipper_userkey_hex))\n",
    "snipper_payer = NilChainPayer(\n",
    "    network,\n",
    "    wallet_private_key=snipper_userkey,\n",
    "    gas_limit=1000,\n",
    ")\n",
    "snipper_client = await VmClient.create(PrivateKey(bytes.fromhex(snipper_userkey_hex)), network, snipper_payer)\n",
    "snipper_user_id = snipper_client.user_id"
   ]
  },
  {
   "cell_type": "markdown",
   "metadata": {},
   "source": [
    "Setup for the Patient actor"
   ]
  },
  {
   "cell_type": "code",
   "execution_count": 11,
   "metadata": {
    "ExecuteTime": {
     "end_time": "2024-08-09T23:28:28.760101Z",
     "start_time": "2024-08-09T23:28:28.734404Z"
    }
   },
   "outputs": [],
   "source": [
    "patient_userkey = NilChainPrivateKey(bytes.fromhex(patient_userkey_hex))\n",
    "patient_payer = NilChainPayer(\n",
    "    network,\n",
    "    wallet_private_key=patient_userkey,\n",
    "    gas_limit=1000,\n",
    ")\n",
    "patient_client = await VmClient.create(PrivateKey(bytes.fromhex(patient_userkey_hex)), network, patient_payer)\n",
    "patient_user_id = patient_client.user_id"
   ]
  },
  {
   "cell_type": "markdown",
   "metadata": {},
   "source": [
    "Payments set up for all network actions"
   ]
  },
  {
   "cell_type": "code",
   "execution_count": 12,
   "metadata": {
    "ExecuteTime": {
     "end_time": "2024-08-09T23:28:31.282228Z",
     "start_time": "2024-08-09T23:28:31.238065Z"
    },
    "id": "pkaCYaErQ8kf"
   },
   "outputs": [],
   "source": [
    "payer_privKey = NilChainPrivateKey(bytes.fromhex(payer_userkey_hex))\n",
    "\n",
    "payer = NilChainPayer(\n",
    "    network,\n",
    "    wallet_private_key=payer_privKey,\n",
    "    gas_limit=10000000,\n",
    ")\n",
    "# We will identify ourselves with the pre-configured private key\n",
    "payer_client= await VmClient.create(PrivateKey(bytes.fromhex(payer_userkey_hex)), network, payer)"
   ]
  },
  {
   "cell_type": "markdown",
   "metadata": {},
   "source": [
    "Add funds to clients"
   ]
  },
  {
   "cell_type": "code",
   "execution_count": 13,
   "metadata": {},
   "outputs": [
    {
     "name": "stdout",
     "output_type": "stream",
     "text": [
      "💰  Current Payer Balance: 500000 uNIL\n",
      "💰  Current Patient Balance: 496598 uNIL\n",
      "💰  Current monadic Balance: 500000 uNIL\n",
      "💰  Current sniper Balance: 500000 uNIL\n"
     ]
    }
   ],
   "source": [
    "funds_amount = 500000\n",
    "bal = await payer_client.balance()\n",
    "print(f\"💰  Current Payer Balance: {bal.balance} uNIL\")\n",
    "if bal.balance < 400000:\n",
    "   print(f\"💰  Adding some funds to the executor client balance: {bal.balance} uNIL\")\n",
    "   await payer_client.add_funds(funds_amount)\n",
    "bal = await patient_client.balance()\n",
    "print(f\"💰  Current Patient Balance: {bal.balance} uNIL\")\n",
    "if bal.balance < 400000:\n",
    "   await payer_client.add_funds(500000, target_user=patient_user_id)\n",
    "bal = await monadic_client.balance()\n",
    "print(f\"💰  Current monadic Balance: {bal.balance} uNIL\")\n",
    "if bal.balance < 400000:\n",
    "   await payer_client.add_funds(500000, target_user=monadic_user_id)\n",
    "bal = await snipper_client.balance()\n",
    "print(f\"💰  Current sniper Balance: {bal.balance} uNIL\")\n",
    "if bal.balance < 400000:\n",
    "   await payer_client.add_funds(500000, target_user=snipper_user_id)\n"
   ]
  },
  {
   "cell_type": "markdown",
   "metadata": {},
   "source": [
    "Configuration for the program to use. Change the contents of the below cell to use another program."
   ]
  },
  {
   "cell_type": "code",
   "execution_count": 14,
   "metadata": {},
   "outputs": [],
   "source": [
    "program_name = \"double\"\n",
    "program_mir_path = f\"binaries/double.nada.bin\"\n",
    "program = open(program_mir_path, \"rb\").read()"
   ]
  },
  {
   "cell_type": "markdown",
   "metadata": {},
   "source": [
    "As a baseline, let's ensure that the user can store the program and run it on their own secret."
   ]
  },
  {
   "cell_type": "code",
   "execution_count": 15,
   "metadata": {
    "ExecuteTime": {
     "end_time": "2024-08-09T23:28:41.524938Z",
     "start_time": "2024-08-09T23:28:35.164639Z"
    }
   },
   "outputs": [
    {
     "name": "stdout",
     "output_type": "stream",
     "text": [
      "The patient is storing the program on the network\n",
      "Program ID: 4b367ad186fa672387ca7fb6ea9f75c13cc53a82/double/sha256/35f9b61f28b8e9aafbc987766f6ff549892aafe1d65256aa6feec84b1f5b6bf0\n",
      "The patient is storing a secret on the network\n",
      "The patient is running the program on the secret..\n",
      "The computation was sent to the network. compute_id: e52ecb8b-26c5-4d49-9737-c12ec934ee1d\n",
      "✅  Compute complete for compute_id e52ecb8b-26c5-4d49-9737-c12ec934ee1d\n",
      "🖥️  The result is {'my_output': SecretInteger(4)}\n",
      "💰  Final client balance: 496112 uNIL\n"
     ]
    }
   ],
   "source": [
    "import os\n",
    "\n",
    "os.environ['RUST_BACKTRACE'] = '1'\n",
    "\n",
    "print(\"The patient is storing the program on the network\")\n",
    "\n",
    "program_id = await patient_client.store_program(\n",
    "    program_name, program,\n",
    ").invoke()\n",
    "\n",
    "print(f\"Program ID: {program_id}\")\n",
    "\n",
    "print(\"The patient is storing a secret on the network\")\n",
    "\n",
    "values = {\"foo\": SecretInteger(2) }\n",
    "\n",
    "# Set permissions for the client to compute on the program\n",
    "permissions = Permissions.defaults_for_user(patient_user_id).allow_compute(\n",
    "            patient_user_id, program_id\n",
    "        )\n",
    "\n",
    "# Store a secret\n",
    "store_id = await patient_client.store_values(\n",
    "    values=values, ttl_days=5, permissions=permissions\n",
    ").invoke()\n",
    "\n",
    "\n",
    "print(\"The patient is running the program on the secret..\")\n",
    "\n",
    "party_name = \"Party1\"\n",
    "\n",
    "input_bindings = [InputPartyBinding(party_name, patient_user_id)]\n",
    "output_bindings = [OutputPartyBinding(party_name, [patient_user_id])]\n",
    "\n",
    "computation_time_secrets = {}\n",
    "\n",
    "# Compute on the secret\n",
    "compute_id = await patient_client.compute(\n",
    "    program_id,\n",
    "    input_bindings,\n",
    "    output_bindings,\n",
    "    values=computation_time_secrets,\n",
    "    value_ids=[store_id]\n",
    ").invoke()\n",
    "\n",
    "# 8. Return the computation result\n",
    "print(f\"The computation was sent to the network. compute_id: {compute_id}\")\n",
    "result = await patient_client.retrieve_compute_results(compute_id).invoke()\n",
    "print(f\"✅  Compute complete for compute_id {compute_id}\")\n",
    "print(f\"🖥️  The result is {result}\")\n",
    "balance = await patient_client.balance()\n",
    "print(f\"💰  Final client balance: {balance.balance} uNIL\")"
   ]
  },
  {
   "cell_type": "markdown",
   "metadata": {},
   "source": [
    "Have Monadic store the program on the network\n",
    "\n",
    "TODO: Also have Snipper save the program and replicate the computation"
   ]
  },
  {
   "cell_type": "code",
   "execution_count": 16,
   "metadata": {
    "ExecuteTime": {
     "end_time": "2024-08-09T23:28:49.395066Z",
     "start_time": "2024-08-09T23:28:47.351151Z"
    },
    "colab": {
     "base_uri": "https://localhost:8080/",
     "height": 211
    },
    "id": "wgS0N715Qid2",
    "outputId": "eb833ff1-b29c-492b-b3c4-271a08a86b51"
   },
   "outputs": [
    {
     "name": "stdout",
     "output_type": "stream",
     "text": [
      "Program ID: ac9f9cea344cdbeaaa76ecca9eea25b21b0a1742/double/sha256/35f9b61f28b8e9aafbc987766f6ff549892aafe1d65256aa6feec84b1f5b6bf0\n"
     ]
    }
   ],
   "source": [
    "mondaic_program_id = await monadic_client.store_program(\n",
    "    program_name, program,\n",
    ").invoke()\n",
    "\n",
    "print(f\"Program ID: {mondaic_program_id}\")\n"
   ]
  },
  {
   "cell_type": "markdown",
   "metadata": {},
   "source": [
    "Have the Patient store a secret on the network such that:\n",
    "- The Patient has all the regular persmissions\n",
    "- Monadic is able to modify permissions and compute on the secret\n",
    "\n",
    "TODO: Establish a chain by having Monadic actually assign compute access to Snipper"
   ]
  },
  {
   "cell_type": "code",
   "execution_count": 17,
   "metadata": {
    "ExecuteTime": {
     "end_time": "2024-08-09T23:28:54.210051Z",
     "start_time": "2024-08-09T23:28:52.165103Z"
    }
   },
   "outputs": [],
   "source": [
    "program_id = mondaic_program_id\n",
    "\n",
    "values = {\n",
    "        \"foo\": SecretInteger(2),\n",
    "    }\n",
    "\n",
    "\n",
    "# Set permissions for the client to compute on the program\n",
    "permissions = Permissions.defaults_for_user(patient_user_id)\\\n",
    "    .allow_update(monadic_user_id)\\\n",
    "    .allow_compute(monadic_user_id, program_id)\\\n",
    "\n",
    "\n",
    "# Store a secret\n",
    "new_store_id = await patient_client.store_values(\n",
    "    values=values, ttl_days=5, permissions=permissions\n",
    ").invoke()"
   ]
  },
  {
   "cell_type": "markdown",
   "metadata": {},
   "source": [
    "Have Monadic run the stored program on the stored secret\n",
    "\n",
    "TODO: Have Snipper run the stored program on the stored secret"
   ]
  },
  {
   "cell_type": "code",
   "execution_count": 18,
   "metadata": {
    "ExecuteTime": {
     "end_time": "2024-08-09T23:28:59.264419Z",
     "start_time": "2024-08-09T23:28:57.193511Z"
    }
   },
   "outputs": [
    {
     "name": "stdout",
     "output_type": "stream",
     "text": [
      "The computation was sent to the network. compute_id: c5d48389-c300-41a2-99d1-202788f3ecb8\n",
      "✅  Compute complete for compute_id c5d48389-c300-41a2-99d1-202788f3ecb8\n",
      "🖥️  The result is {'my_output': SecretInteger(4)}\n",
      "💰  Final client balance: 499995 uNIL\n"
     ]
    }
   ],
   "source": [
    "import os\n",
    "\n",
    "os.environ['RUST_BACKTRACE'] = 'full'\n",
    "\n",
    "party_name = \"Party1\"\n",
    "\n",
    "input_bindings = [InputPartyBinding(party_name, monadic_user_id)]\n",
    "output_bindings = [OutputPartyBinding(party_name, [monadic_user_id])]\n",
    "\n",
    "computation_time_secrets = {}\n",
    "\n",
    "# Compute on the secret\n",
    "compute_id = await monadic_client.compute(\n",
    "    program_id,\n",
    "    input_bindings,\n",
    "    output_bindings,\n",
    "    values=computation_time_secrets,\n",
    "    value_ids=[new_store_id]\n",
    ").invoke()\n",
    "\n",
    "# 8. Return the computation result\n",
    "print(f\"The computation was sent to the network. compute_id: {compute_id}\")\n",
    "result = await monadic_client.retrieve_compute_results(compute_id).invoke()\n",
    "print(f\"✅  Compute complete for compute_id {compute_id}\")\n",
    "print(f\"🖥️  The result is {result}\")\n",
    "balance = await monadic_client.balance()\n",
    "print(f\"💰  Final client balance: {balance.balance} uNIL\")"
   ]
  },
  {
   "cell_type": "markdown",
   "metadata": {},
   "source": [
    "Update permissions on the value to give snipper bot compute perms"
   ]
  },
  {
   "cell_type": "code",
   "execution_count": 19,
   "metadata": {},
   "outputs": [
    {
     "name": "stdout",
     "output_type": "stream",
     "text": [
      "existing compute perms count 1\n",
      "new compute perms count 2\n"
     ]
    }
   ],
   "source": [
    "compute = ComputePermissions()\n",
    "compute.permissions[snipper_user_id] = ComputePermission()\n",
    "compute.permissions[snipper_user_id].program_ids.add(mondaic_program_id)\n",
    "allowCompute = PermissionsDelta(compute=ComputePermissionCommand(grant=compute))\n",
    "existingPermissions = await patient_client.retrieve_permissions(new_store_id).invoke()\n",
    "await patient_client.update_permissions(new_store_id, allowCompute).invoke()\n",
    "newPermissions = await patient_client.retrieve_permissions(new_store_id).invoke()\n",
    "\n",
    "print(\"existing compute perms count\", len(existingPermissions.compute.permissions))\n",
    "print(\"new compute perms count\", len(newPermissions.compute.permissions))\n"
   ]
  },
  {
   "cell_type": "markdown",
   "metadata": {},
   "source": [
    "Now have Snipper run the program"
   ]
  },
  {
   "cell_type": "code",
   "execution_count": 20,
   "metadata": {
    "ExecuteTime": {
     "end_time": "2024-08-09T23:41:25.749809Z",
     "start_time": "2024-08-09T23:41:23.044687Z"
    }
   },
   "outputs": [
    {
     "name": "stdout",
     "output_type": "stream",
     "text": [
      "The computation was sent to the network. compute_id: b93f96e7-45d0-4e74-92a0-cc4d547cc321\n",
      "✅  Compute complete for compute_id b93f96e7-45d0-4e74-92a0-cc4d547cc321\n",
      "🖥️  The result is {'my_output': SecretInteger(4)}\n",
      "💰  Final client balance: 499996 uNIL\n"
     ]
    }
   ],
   "source": [
    "party_name = \"Party1\"\n",
    "\n",
    "input_bindings = [InputPartyBinding(party_name, snipper_user_id)]\n",
    "output_bindings = [OutputPartyBinding(party_name, [snipper_user_id])]\n",
    "\n",
    "computation_time_secrets = {}\n",
    "\n",
    "# Compute on the secret\n",
    "compute_id = await snipper_client.compute(\n",
    "    program_id,\n",
    "    input_bindings,\n",
    "    output_bindings,\n",
    "    values=computation_time_secrets,\n",
    "    value_ids=[new_store_id]\n",
    ").invoke()\n",
    "\n",
    "# 8. Return the computation result\n",
    "print(f\"The computation was sent to the network. compute_id: {compute_id}\")\n",
    "result = await snipper_client.retrieve_compute_results(compute_id).invoke()\n",
    "print(f\"✅  Compute complete for compute_id {compute_id}\")\n",
    "print(f\"🖥️  The result is {result}\")\n",
    "balance = await snipper_client.balance()\n",
    "print(f\"💰  Final client balance: {balance.balance} uNIL\")"
   ]
  }
 ],
 "metadata": {
  "colab": {
   "provenance": []
  },
  "kernelspec": {
   "display_name": ".venv",
   "language": "python",
   "name": "python3"
  },
  "language_info": {
   "codemirror_mode": {
    "name": "ipython",
    "version": 3
   },
   "file_extension": ".py",
   "mimetype": "text/x-python",
   "name": "python",
   "nbconvert_exporter": "python",
   "pygments_lexer": "ipython3",
   "version": "3.12.7"
  }
 },
 "nbformat": 4,
 "nbformat_minor": 0
}
