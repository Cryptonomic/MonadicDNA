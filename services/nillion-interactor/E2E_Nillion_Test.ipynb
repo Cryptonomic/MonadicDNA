{
 "nbformat": 4,
 "nbformat_minor": 0,
 "metadata": {
  "colab": {
   "provenance": []
  },
  "kernelspec": {
   "name": "python3",
   "display_name": "Python 3 (ipykernel)",
   "language": "python"
  },
  "language_info": {
   "name": "python"
  }
 },
 "cells": [
  {
   "cell_type": "markdown",
   "source": [
    "Set up env and imports"
   ],
   "metadata": {
    "id": "JaUba7vsukRz"
   }
  },
  {
   "cell_type": "code",
   "source": [
    "!pip install nada-dsl==0.5.0\n",
    "!pip install py-nillion-client==0.5.0\n",
    "!pip install nillion-python-helpers==0.2.3\n",
    "!pip install python-dotenv==1.0.0"
   ],
   "metadata": {
    "colab": {
     "base_uri": "https://localhost:8080/"
    },
    "id": "JAGtpt87u119",
    "outputId": "2d8deba3-069f-4449-df93-f58ba31841f5",
    "ExecuteTime": {
     "end_time": "2024-08-06T15:05:24.572999Z",
     "start_time": "2024-08-06T15:05:19.509953Z"
    }
   },
   "outputs": [
    {
     "name": "stdout",
     "output_type": "stream",
     "text": [
      "Requirement already satisfied: nada-dsl==0.5.0 in ./venv/lib/python3.10/site-packages (0.5.0)\r\n",
      "Requirement already satisfied: sortedcontainers~=2.4 in ./venv/lib/python3.10/site-packages (from nada-dsl==0.5.0) (2.4.0)\r\n",
      "Requirement already satisfied: asttokens~=2.4 in ./venv/lib/python3.10/site-packages (from nada-dsl==0.5.0) (2.4.1)\r\n",
      "Requirement already satisfied: parsial~=0.1 in ./venv/lib/python3.10/site-packages (from nada-dsl==0.5.0) (0.1.0)\r\n",
      "Requirement already satisfied: richreports~=0.2 in ./venv/lib/python3.10/site-packages (from nada-dsl==0.5.0) (0.2.0)\r\n",
      "Requirement already satisfied: six>=1.12.0 in ./venv/lib/python3.10/site-packages (from asttokens~=2.4->nada-dsl==0.5.0) (1.16.0)\r\n",
      "Requirement already satisfied: py-nillion-client==0.5.0 in ./venv/lib/python3.10/site-packages (0.5.0)\r\n",
      "Requirement already satisfied: protobuf<5.0.dev0,>=4.21.6 in ./venv/lib/python3.10/site-packages (from py-nillion-client==0.5.0) (4.25.4)\r\n",
      "Requirement already satisfied: nillion-python-helpers==0.2.3 in ./venv/lib/python3.10/site-packages (0.2.3)\r\n",
      "Requirement already satisfied: cosmpy<0.10.0,>=0.9.2 in ./venv/lib/python3.10/site-packages (from nillion-python-helpers==0.2.3) (0.9.2)\r\n",
      "Requirement already satisfied: pytest-asyncio<0.24.0,>=0.23.7 in ./venv/lib/python3.10/site-packages (from nillion-python-helpers==0.2.3) (0.23.8)\r\n",
      "Requirement already satisfied: python-dotenv==1.0.0 in ./venv/lib/python3.10/site-packages (from nillion-python-helpers==0.2.3) (1.0.0)\r\n",
      "Requirement already satisfied: protobuf<5.0dev,>=4.21.6 in ./venv/lib/python3.10/site-packages (from cosmpy<0.10.0,>=0.9.2->nillion-python-helpers==0.2.3) (4.25.4)\r\n",
      "Requirement already satisfied: grpcio in ./venv/lib/python3.10/site-packages (from cosmpy<0.10.0,>=0.9.2->nillion-python-helpers==0.2.3) (1.65.4)\r\n",
      "Requirement already satisfied: ecdsa in ./venv/lib/python3.10/site-packages (from cosmpy<0.10.0,>=0.9.2->nillion-python-helpers==0.2.3) (0.19.0)\r\n",
      "Requirement already satisfied: bech32 in ./venv/lib/python3.10/site-packages (from cosmpy<0.10.0,>=0.9.2->nillion-python-helpers==0.2.3) (1.2.0)\r\n",
      "Requirement already satisfied: python-dateutil in ./venv/lib/python3.10/site-packages (from cosmpy<0.10.0,>=0.9.2->nillion-python-helpers==0.2.3) (2.9.0.post0)\r\n",
      "Requirement already satisfied: jsonschema<5,>=3.2.0 in ./venv/lib/python3.10/site-packages (from cosmpy<0.10.0,>=0.9.2->nillion-python-helpers==0.2.3) (4.23.0)\r\n",
      "Requirement already satisfied: requests in ./venv/lib/python3.10/site-packages (from cosmpy<0.10.0,>=0.9.2->nillion-python-helpers==0.2.3) (2.32.3)\r\n",
      "Requirement already satisfied: googleapis-common-protos in ./venv/lib/python3.10/site-packages (from cosmpy<0.10.0,>=0.9.2->nillion-python-helpers==0.2.3) (1.63.2)\r\n",
      "Requirement already satisfied: pycryptodome<4.0.0,>=3.18.0 in ./venv/lib/python3.10/site-packages (from cosmpy<0.10.0,>=0.9.2->nillion-python-helpers==0.2.3) (3.20.0)\r\n",
      "Requirement already satisfied: pytest<9,>=7.0.0 in ./venv/lib/python3.10/site-packages (from pytest-asyncio<0.24.0,>=0.23.7->nillion-python-helpers==0.2.3) (8.1.1)\r\n",
      "Requirement already satisfied: jsonschema-specifications>=2023.03.6 in ./venv/lib/python3.10/site-packages (from jsonschema<5,>=3.2.0->cosmpy<0.10.0,>=0.9.2->nillion-python-helpers==0.2.3) (2023.12.1)\r\n",
      "Requirement already satisfied: referencing>=0.28.4 in ./venv/lib/python3.10/site-packages (from jsonschema<5,>=3.2.0->cosmpy<0.10.0,>=0.9.2->nillion-python-helpers==0.2.3) (0.35.1)\r\n",
      "Requirement already satisfied: rpds-py>=0.7.1 in ./venv/lib/python3.10/site-packages (from jsonschema<5,>=3.2.0->cosmpy<0.10.0,>=0.9.2->nillion-python-helpers==0.2.3) (0.19.1)\r\n",
      "Requirement already satisfied: attrs>=22.2.0 in ./venv/lib/python3.10/site-packages (from jsonschema<5,>=3.2.0->cosmpy<0.10.0,>=0.9.2->nillion-python-helpers==0.2.3) (23.2.0)\r\n",
      "Requirement already satisfied: pluggy<2.0,>=1.4 in ./venv/lib/python3.10/site-packages (from pytest<9,>=7.0.0->pytest-asyncio<0.24.0,>=0.23.7->nillion-python-helpers==0.2.3) (1.4.0)\r\n",
      "Requirement already satisfied: tomli>=1 in ./venv/lib/python3.10/site-packages (from pytest<9,>=7.0.0->pytest-asyncio<0.24.0,>=0.23.7->nillion-python-helpers==0.2.3) (2.0.1)\r\n",
      "Requirement already satisfied: exceptiongroup>=1.0.0rc8 in ./venv/lib/python3.10/site-packages (from pytest<9,>=7.0.0->pytest-asyncio<0.24.0,>=0.23.7->nillion-python-helpers==0.2.3) (1.2.0)\r\n",
      "Requirement already satisfied: iniconfig in ./venv/lib/python3.10/site-packages (from pytest<9,>=7.0.0->pytest-asyncio<0.24.0,>=0.23.7->nillion-python-helpers==0.2.3) (2.0.0)\r\n",
      "Requirement already satisfied: packaging in ./venv/lib/python3.10/site-packages (from pytest<9,>=7.0.0->pytest-asyncio<0.24.0,>=0.23.7->nillion-python-helpers==0.2.3) (24.0)\r\n",
      "Requirement already satisfied: six>=1.9.0 in ./venv/lib/python3.10/site-packages (from ecdsa->cosmpy<0.10.0,>=0.9.2->nillion-python-helpers==0.2.3) (1.16.0)\r\n",
      "Requirement already satisfied: certifi>=2017.4.17 in ./venv/lib/python3.10/site-packages (from requests->cosmpy<0.10.0,>=0.9.2->nillion-python-helpers==0.2.3) (2024.7.4)\r\n",
      "Requirement already satisfied: urllib3<3,>=1.21.1 in ./venv/lib/python3.10/site-packages (from requests->cosmpy<0.10.0,>=0.9.2->nillion-python-helpers==0.2.3) (2.2.2)\r\n",
      "Requirement already satisfied: charset-normalizer<4,>=2 in ./venv/lib/python3.10/site-packages (from requests->cosmpy<0.10.0,>=0.9.2->nillion-python-helpers==0.2.3) (3.3.2)\r\n",
      "Requirement already satisfied: idna<4,>=2.5 in ./venv/lib/python3.10/site-packages (from requests->cosmpy<0.10.0,>=0.9.2->nillion-python-helpers==0.2.3) (3.7)\r\n",
      "Requirement already satisfied: python-dotenv==1.0.0 in ./venv/lib/python3.10/site-packages (1.0.0)\r\n"
     ]
    }
   ],
   "execution_count": 1
  },
  {
   "cell_type": "code",
   "source": [
    "import py_nillion_client as nillion\n",
    "from py_nillion_client import NodeKey, UserKey\n",
    "from dotenv import load_dotenv\n",
    "from nillion_python_helpers import get_quote_and_pay, create_nillion_client, create_payments_config\n",
    "from cosmpy.aerial.client import LedgerClient\n",
    "from cosmpy.aerial.wallet import LocalWallet\n",
    "from cosmpy.crypto.keypairs import PrivateKey"
   ],
   "metadata": {
    "id": "EQCfD717Sb-M",
    "ExecuteTime": {
     "end_time": "2024-08-06T15:07:29.050608Z",
     "start_time": "2024-08-06T15:07:27.930532Z"
    }
   },
   "outputs": [],
   "execution_count": 2
  },
  {
   "cell_type": "code",
   "source": [
    "import os\n",
    "\n",
    "load_dotenv('/home/vishakh/.config/nillion/nillion-devnet.env')\n",
    "\n",
    "for key, value in os.environ.items():\n",
    "    print(f\"{key}: {value}\")"
   ],
   "metadata": {
    "colab": {
     "base_uri": "https://localhost:8080/"
    },
    "id": "XWsJmklOEeh1",
    "outputId": "fff3de58-4f50-4e09-99f9-d7b6cdb943ed",
    "ExecuteTime": {
     "end_time": "2024-08-06T20:21:00.452045Z",
     "start_time": "2024-08-06T20:21:00.443469Z"
    }
   },
   "outputs": [
    {
     "name": "stdout",
     "output_type": "stream",
     "text": [
      "PATH: /home/vishakh/dev/cryptonomic/MonadicDNA/services/nillion-interactor/venv/bin:/home/vishakh/.nvm/versions/node/v12.22.3/bin:/home/vishakh/.cargo/bin:/home/vishakh/.opam/default/bin:/home/vishakh/.local/bin:/usr/local/sbin:/usr/local/bin:/usr/sbin:/usr/bin:/sbin:/bin:/usr/games:/usr/local/games:/snap/bin:/snap/bin:/home/vishakh/apps/go/bin\n",
      "XAUTHORITY: /run/user/1000/gdm/Xauthority\n",
      "INVOCATION_ID: 1878f8ab32de4ac3aa79aec5ef7ce9c8\n",
      "XMODIFIERS: @im=ibus\n",
      "XDG_DATA_DIRS: /usr/share/ubuntu:/usr/share/gnome:/usr/local/share/:/usr/share/:/var/lib/snapd/desktop\n",
      "GDMSESSION: ubuntu\n",
      "MANDATORY_PATH: /usr/share/gconf/ubuntu.mandatory.path\n",
      "GTK_IM_MODULE: ibus\n",
      "DBUS_SESSION_BUS_ADDRESS: unix:path=/run/user/1000/bus\n",
      "DEFAULTS_PATH: /usr/share/gconf/ubuntu.default.path\n",
      "PS1: (venv) \n",
      "XDG_CURRENT_DESKTOP: ubuntu:GNOME\n",
      "JOURNAL_STREAM: 8:52068\n",
      "SESSION_MANAGER: local/vishakhs-super-pc:@/tmp/.ICE-unix/4686,unix/vishakhs-super-pc:/tmp/.ICE-unix/4686\n",
      "USERNAME: vishakh\n",
      "LOGNAME: vishakh\n",
      "PWD: /home/vishakh/dev/cryptonomic/MonadicDNA\n",
      "MANAGERPID: 4023\n",
      "IM_CONFIG_PHASE: 1\n",
      "OCAML_TOPLEVEL_PATH: /home/vishakh/.opam/default/lib/toplevel\n",
      "LANGUAGE: \n",
      "GJS_DEBUG_TOPICS: JS ERROR;JS LOG\n",
      "PYTHONPATH: /home/vishakh/dev/cryptonomic/MonadicDNA\n",
      "NVM_CD_FLAGS: \n",
      "SHELL: /bin/bash\n",
      "GIO_LAUNCHED_DESKTOP_FILE: /usr/local/share/applications/jetbrains-idea.desktop\n",
      "GNOME_DESKTOP_SESSION_ID: this-is-deprecated\n",
      "GTK_MODULES: gail:atk-bridge\n",
      "VIRTUAL_ENV: /home/vishakh/dev/cryptonomic/MonadicDNA/services/nillion-interactor/venv\n",
      "LC_ALL: en_US.UTF-8\n",
      "SYSTEMD_EXEC_PID: 4710\n",
      "XDG_SESSION_DESKTOP: ubuntu\n",
      "SSH_AGENT_LAUNCHER: gnome-keyring\n",
      "SHLVL: 0\n",
      "MANPATH: /home/vishakh/.nvm/versions/node/v12.22.3/share/man::/home/vishakh/.opam/default/man\n",
      "QT_IM_MODULE: ibus\n",
      "XDG_CONFIG_DIRS: /etc/xdg/xdg-ubuntu:/etc/xdg\n",
      "LANG: en_US.UTF-8\n",
      "XDG_SESSION_TYPE: x11\n",
      "DISPLAY: :1\n",
      "NVM_INC: /home/vishakh/.nvm/versions/node/v12.22.3/include/node\n",
      "CAML_LD_LIBRARY_PATH: /home/vishakh/.opam/default/lib/stublibs:/usr/local/lib/ocaml/4.08.1/stublibs:/usr/lib/ocaml/stublibs\n",
      "XDG_SESSION_CLASS: user\n",
      "_: /usr/bin/dbus-update-activation-environment\n",
      "NVM_DIR: /home/vishakh/.nvm\n",
      "OPAM_SWITCH_PREFIX: /home/vishakh/.opam/default\n",
      "GPG_AGENT_INFO: /run/user/1000/gnupg/S.gpg-agent:0:1\n",
      "DESKTOP_SESSION: ubuntu\n",
      "USER: vishakh\n",
      "XDG_MENU_PREFIX: gnome-\n",
      "GIO_LAUNCHED_DESKTOP_FILE_PID: 3775887\n",
      "QT_ACCESSIBILITY: 1\n",
      "WINDOWPATH: 2\n",
      "GJS_DEBUG_OUTPUT: stderr\n",
      "SSH_AUTH_SOCK: /run/user/1000/keyring/ssh\n",
      "GNOME_SHELL_SESSION_MODE: ubuntu\n",
      "XDG_RUNTIME_DIR: /run/user/1000\n",
      "NVM_BIN: /home/vishakh/.nvm/versions/node/v12.22.3/bin\n",
      "HOME: /home/vishakh\n",
      "JPY_SESSION_NAME: services/nillion-interactor/E2E_Nillion_Test.ipynb\n",
      "JPY_PARENT_PID: 3779050\n",
      "PYDEVD_USE_FRAME_EVAL: NO\n",
      "TERM: xterm-color\n",
      "CLICOLOR: 1\n",
      "FORCE_COLOR: 1\n",
      "CLICOLOR_FORCE: 1\n",
      "PAGER: cat\n",
      "GIT_PAGER: cat\n",
      "MPLBACKEND: module://matplotlib_inline.backend_inline\n",
      "NILLION_CLUSTER_ID: 9e68173f-9c23-4acc-ba81-4f079b639964\n",
      "NILLION_BOOTNODE_MULTIADDRESS: /ip4/127.0.0.1/tcp/37939/p2p/12D3KooWMvw1hEqm7EWSDEyqTb6pNetUVkepahKY6hixuAuMZfJS\n",
      "NILLION_BOOTNODE_WEBSOCKET: /ip4/127.0.0.1/tcp/54936/ws/p2p/12D3KooWMvw1hEqm7EWSDEyqTb6pNetUVkepahKY6hixuAuMZfJS\n",
      "NILLION_NILCHAIN_CHAIN_ID: nillion-chain-devnet\n",
      "NILLION_NILCHAIN_JSON_RPC: http://127.0.0.1:48102\n",
      "NILLION_NILCHAIN_REST_API: http://localhost:26650\n",
      "NILLION_NILCHAIN_GRPC: localhost:26649\n",
      "NILLION_NILCHAIN_PRIVATE_KEY_0: 9a975f567428d054f2bf3092812e6c42f901ce07d9711bc77ee2cd81101f42c5\n",
      "NILLION_NILCHAIN_PRIVATE_KEY_1: 1e491133b9408b39572a29f91644873decea554224b20e2b0b923aeb860a1c18\n",
      "NILLION_NILCHAIN_PRIVATE_KEY_2: 980488572f235316cdb330191f8bafe4e635efbe88b3a40f5bee9bd21047c059\n",
      "NILLION_NILCHAIN_PRIVATE_KEY_3: 612bb5173dc60d9e91404fcc0d1f1847fb4459a7d5160d63d84e91aacbf2ab2f\n",
      "NILLION_NILCHAIN_PRIVATE_KEY_4: 04f5a984eeea9dce4e5e907da69c01a61568e3071b1a91cbed89225f9fd913b5\n",
      "NILLION_NILCHAIN_PRIVATE_KEY_5: 5f992c58921f4af83b4c6b650c4914626664cd02020577b0ada49cfa00d2c8a4\n",
      "NILLION_NILCHAIN_PRIVATE_KEY_6: 8f0297d3bb647eb59b95b29550b2aebbedd9be2c954b000e772efe8c9318a42d\n",
      "NILLION_NILCHAIN_PRIVATE_KEY_7: c395243df9bb68dc809668efe4125f0eb017771ed8e3747b8d6860551913fecb\n",
      "NILLION_NILCHAIN_PRIVATE_KEY_8: 4bb5eaa799e24ae2b48545c41331921afe7e6a8dd7a850f5fbeb20a8226664ec\n",
      "NILLION_NILCHAIN_PRIVATE_KEY_9: ef4b944d4fdb0077057925fe2dde365dfa2c83cf320463b14589feccd1b2b938\n"
     ]
    }
   ],
   "execution_count": 13
  },
  {
   "metadata": {
    "ExecuteTime": {
     "end_time": "2024-08-06T20:21:01.736797Z",
     "start_time": "2024-08-06T20:21:01.731884Z"
    }
   },
   "cell_type": "code",
   "source": [
    "cluster_id = os.getenv('NILLION_CLUSTER_ID')\n",
    "chain_id = os.getenv('NILLION_NILCHAIN_CHAIN_ID')\n",
    "grpc_endpoint = os.getenv('NILLION_NILCHAIN_GRPC')\n",
    "\n",
    "print(f\"Cluster ID: {cluster_id}\")\n",
    "print(f\"Chain ID: {chain_id}\")\n",
    "print(f\"GRPC Endpoint: {grpc_endpoint}\")"
   ],
   "outputs": [
    {
     "name": "stdout",
     "output_type": "stream",
     "text": [
      "Cluster ID: 9e68173f-9c23-4acc-ba81-4f079b639964\n",
      "Chain ID: nillion-chain-devnet\n",
      "GRPC Endpoint: localhost:26649\n"
     ]
    }
   ],
   "execution_count": 14
  },
  {
   "metadata": {
    "ExecuteTime": {
     "end_time": "2024-08-06T20:21:03.459640Z",
     "start_time": "2024-08-06T20:21:03.455674Z"
    }
   },
   "cell_type": "code",
   "source": [
    "import uuid\n",
    "def gen_node_key():\n",
    "    return NodeKey.from_seed(uuid.uuid4().hex)"
   ],
   "outputs": [],
   "execution_count": 15
  },
  {
   "metadata": {
    "ExecuteTime": {
     "end_time": "2024-08-06T20:21:04.846651Z",
     "start_time": "2024-08-06T20:21:04.836516Z"
    }
   },
   "cell_type": "code",
   "source": [
    "monadic_seed = \"monadic_seed\"\n",
    "monadic_userkey = UserKey.from_seed(monadic_seed)\n",
    "monadic_client = create_nillion_client(monadic_userkey, gen_node_key())\n",
    "monadic_party_id = monadic_client.party_id\n",
    "monadic_user_id = monadic_client.user_id"
   ],
   "outputs": [],
   "execution_count": 16
  },
  {
   "metadata": {
    "ExecuteTime": {
     "end_time": "2024-08-06T20:21:05.873162Z",
     "start_time": "2024-08-06T20:21:05.863279Z"
    }
   },
   "cell_type": "code",
   "source": [
    "snipper_seed = \"snipper_seed\"\n",
    "snipper_userkey = UserKey.from_seed(snipper_seed)\n",
    "snipper_client = create_nillion_client(snipper_userkey, gen_node_key())\n",
    "snipper_party_id = snipper_client.party_id\n",
    "snipper_user_id = snipper_client.user_id"
   ],
   "outputs": [],
   "execution_count": 17
  },
  {
   "metadata": {
    "ExecuteTime": {
     "end_time": "2024-08-06T20:21:07.183760Z",
     "start_time": "2024-08-06T20:21:07.168099Z"
    }
   },
   "cell_type": "code",
   "source": [
    "seed = \"my_seed\"\n",
    "userkey = UserKey.from_seed(seed)\n",
    "client = create_nillion_client(userkey, gen_node_key())\n",
    "party_id = client.party_id\n",
    "user_id = client.user_id"
   ],
   "outputs": [],
   "execution_count": 18
  },
  {
   "cell_type": "code",
   "source": [
    "payments_config = create_payments_config(chain_id, grpc_endpoint)\n",
    "payments_client = LedgerClient(payments_config)\n",
    "payments_wallet = LocalWallet(\n",
    "    PrivateKey(bytes.fromhex(os.getenv(\"NILLION_NILCHAIN_PRIVATE_KEY_0\"))),\n",
    "    prefix=\"nillion\",\n",
    ")"
   ],
   "metadata": {
    "id": "pkaCYaErQ8kf",
    "ExecuteTime": {
     "end_time": "2024-08-06T20:21:09.759565Z",
     "start_time": "2024-08-06T20:21:09.752806Z"
    }
   },
   "outputs": [],
   "execution_count": 19
  },
  {
   "cell_type": "code",
   "metadata": {
    "id": "rEr0_JkMuVci",
    "ExecuteTime": {
     "end_time": "2024-08-06T20:21:10.394974Z",
     "start_time": "2024-08-06T20:21:10.392518Z"
    }
   },
   "source": [
    "program_name = \"double\"\n",
    "program_mir_path = f\"binaries/double.nada.bin\""
   ],
   "outputs": [],
   "execution_count": 20
  },
  {
   "cell_type": "code",
   "source": [
    "async def store_program():\n",
    "    receipt_store_program = await get_quote_and_pay(\n",
    "        client,\n",
    "        nillion.Operation.store_program(program_mir_path),\n",
    "        payments_wallet,\n",
    "        payments_client,\n",
    "        cluster_id,\n",
    "    )\n",
    "\n",
    "    # Store the program\n",
    "    action_id = await client.store_program(\n",
    "        cluster_id, program_name, program_mir_path, receipt_store_program\n",
    "    )\n",
    "    return action_id\n",
    "\n",
    "# Use this in your Jupyter notebook cell\n",
    "action_id = await store_program()\n",
    "print(f\"Action ID: {action_id}\")"
   ],
   "metadata": {
    "colab": {
     "base_uri": "https://localhost:8080/",
     "height": 211
    },
    "id": "wgS0N715Qid2",
    "outputId": "eb833ff1-b29c-492b-b3c4-271a08a86b51",
    "ExecuteTime": {
     "end_time": "2024-08-06T20:21:14.617432Z",
     "start_time": "2024-08-06T20:21:11.248601Z"
    }
   },
   "outputs": [
    {
     "name": "stdout",
     "output_type": "stream",
     "text": [
      "Getting quote for operation...\n",
      "Quote cost is 2 unil\n",
      "Submitting payment receipt 2 unil, tx hash BF1E056995EA02FE9C804B0FFAF2A2A277C422A3B6BDA5C0B526DE6691103FA9\n",
      "Action ID: 3rgqxWd47e171EUwe4RXP9hm45tmoXfuF8fC52S7jcFoQTnU8wPiL7hqWzyV1muak6bEg7iWhudwg4t2pM9XnXcp/double\n"
     ]
    }
   ],
   "execution_count": 21
  },
  {
   "metadata": {
    "ExecuteTime": {
     "end_time": "2024-08-06T20:21:19.138845Z",
     "start_time": "2024-08-06T20:21:16.865309Z"
    }
   },
   "cell_type": "code",
   "source": [
    "program_id = f\"{user_id}/{program_name}\"\n",
    "\n",
    "new_secret = nillion.NadaValues(\n",
    "    {\n",
    "        \"foo\": nillion.SecretInteger(2),\n",
    "    }\n",
    ")\n",
    "\n",
    "party_name = \"Party1\"\n",
    "\n",
    "# Set permissions for the client to compute on the program\n",
    "permissions = nillion.Permissions.default_for_user(client.user_id)\n",
    "permissions.add_compute_permissions({client.user_id: {program_id}})\n",
    "\n",
    "# Pay for and store the secret in the network and print the returned store_id\n",
    "receipt_store = await get_quote_and_pay(\n",
    "    client,\n",
    "    nillion.Operation.store_values(new_secret, ttl_days=5),\n",
    "    payments_wallet,\n",
    "    payments_client,\n",
    "    cluster_id,\n",
    ")\n",
    "# Store a secret\n",
    "store_id = await client.store_values(\n",
    "    cluster_id, new_secret, permissions, receipt_store\n",
    ")"
   ],
   "outputs": [
    {
     "name": "stdout",
     "output_type": "stream",
     "text": [
      "Getting quote for operation...\n",
      "Quote cost is 482 unil\n",
      "Submitting payment receipt 482 unil, tx hash 40225AB14D082A3855740DBBCC3EDB771FA25338490BE8CE8286F56C24397056\n"
     ]
    }
   ],
   "execution_count": 22
  },
  {
   "metadata": {
    "ExecuteTime": {
     "end_time": "2024-08-06T20:21:23.387853Z",
     "start_time": "2024-08-06T20:21:21.112180Z"
    }
   },
   "cell_type": "code",
   "source": [
    "compute_bindings = nillion.ProgramBindings(program_id)\n",
    "compute_bindings.add_input_party(party_name, party_id)\n",
    "compute_bindings.add_output_party(party_name, party_id)\n",
    "\n",
    "computation_time_secrets = nillion.NadaValues({})\n",
    "\n",
    "# Pay for the compute\n",
    "receipt_compute = await get_quote_and_pay(\n",
    "    client,\n",
    "    nillion.Operation.compute(program_id, computation_time_secrets),\n",
    "    payments_wallet,\n",
    "    payments_client,\n",
    "    cluster_id,\n",
    ")\n",
    "\n",
    "# Compute on the secret\n",
    "compute_id = await client.compute(\n",
    "    cluster_id,\n",
    "    compute_bindings,\n",
    "    [store_id],\n",
    "    computation_time_secrets,\n",
    "    receipt_compute,\n",
    ")\n",
    "\n",
    "# 8. Return the computation result\n",
    "print(f\"The computation was sent to the network. compute_id: {compute_id}\")\n",
    "while True:\n",
    "    compute_event = await client.next_compute_event()\n",
    "    if isinstance(compute_event, nillion.ComputeFinishedEvent):\n",
    "        print(f\"✅  Compute complete for compute_id {compute_event.uuid}\")\n",
    "        print(f\"🖥️  The result is {compute_event.result.value}\")\n",
    "        break"
   ],
   "outputs": [
    {
     "name": "stdout",
     "output_type": "stream",
     "text": [
      "Getting quote for operation...\n",
      "Quote cost is 3 unil\n",
      "Submitting payment receipt 3 unil, tx hash 9A79F70D6E43D9B348378D153E88B88850ECCE879381120149C9AEFDCCB68001\n",
      "The computation was sent to the network. compute_id: 68da2ed9-5f5e-4e9a-8441-d37d3e62a5df\n",
      "✅  Compute complete for compute_id 68da2ed9-5f5e-4e9a-8441-d37d3e62a5df\n",
      "🖥️  The result is {'my_output': 4}\n"
     ]
    }
   ],
   "execution_count": 23
  },
  {
   "metadata": {},
   "cell_type": "code",
   "outputs": [],
   "execution_count": null,
   "source": ""
  }
 ]
}
