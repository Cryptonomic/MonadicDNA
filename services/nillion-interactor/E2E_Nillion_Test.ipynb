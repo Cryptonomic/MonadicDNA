{
 "cells": [
  {
   "cell_type": "markdown",
   "metadata": {
    "id": "JaUba7vsukRz"
   },
   "source": [
    "This workbook represent an end to end test of the Nillion network. It will test the following:\n",
    "1. A user (patient) uploading their data in encrypted form and providing access to Monadic\n",
    "2. Monadic giving compute access to Snipper, a third party\n",
    "3. Snipper registering a program and running in on the patient's encrypted data\n",
    "\n",
    "Before running this workbook, ensure Nillion Devnet is running. "
   ]
  },
  {
   "cell_type": "markdown",
   "metadata": {},
   "source": [
    "Install all Python prerequisites. "
   ]
  },
  {
   "cell_type": "code",
   "execution_count": 1,
   "metadata": {
    "ExecuteTime": {
     "end_time": "2024-08-09T19:26:51.222994Z",
     "start_time": "2024-08-09T19:26:43.883908Z"
    },
    "colab": {
     "base_uri": "https://localhost:8080/"
    },
    "id": "JAGtpt87u119",
    "outputId": "2d8deba3-069f-4449-df93-f58ba31841f5"
   },
   "outputs": [
    {
     "name": "stdout",
     "output_type": "stream",
     "text": [
      "Requirement already satisfied: nada-dsl==0.6.0 in /Library/Frameworks/Python.framework/Versions/3.12/lib/python3.12/site-packages (0.6.0)\n",
      "Requirement already satisfied: asttokens~=2.4 in /Users/aisha/Library/Python/3.12/lib/python/site-packages (from nada-dsl==0.6.0) (2.4.1)\n",
      "Requirement already satisfied: richreports~=0.2 in /Library/Frameworks/Python.framework/Versions/3.12/lib/python3.12/site-packages (from nada-dsl==0.6.0) (0.2.0)\n",
      "Requirement already satisfied: parsial~=0.1 in /Library/Frameworks/Python.framework/Versions/3.12/lib/python3.12/site-packages (from nada-dsl==0.6.0) (0.1.0)\n",
      "Requirement already satisfied: sortedcontainers~=2.4 in /Library/Frameworks/Python.framework/Versions/3.12/lib/python3.12/site-packages (from nada-dsl==0.6.0) (2.4.0)\n",
      "Requirement already satisfied: six>=1.12.0 in /Users/aisha/Library/Python/3.12/lib/python/site-packages (from asttokens~=2.4->nada-dsl==0.6.0) (1.16.0)\n",
      "\n",
      "\u001b[1m[\u001b[0m\u001b[34;49mnotice\u001b[0m\u001b[1;39;49m]\u001b[0m\u001b[39;49m A new release of pip is available: \u001b[0m\u001b[31;49m24.0\u001b[0m\u001b[39;49m -> \u001b[0m\u001b[32;49m24.2\u001b[0m\n",
      "\u001b[1m[\u001b[0m\u001b[34;49mnotice\u001b[0m\u001b[1;39;49m]\u001b[0m\u001b[39;49m To update, run: \u001b[0m\u001b[32;49mpip3 install --upgrade pip\u001b[0m\n",
      "Note: you may need to restart the kernel to use updated packages.\n",
      "Requirement already satisfied: py-nillion-client==0.6.0 in /Library/Frameworks/Python.framework/Versions/3.12/lib/python3.12/site-packages (0.6.0)\n",
      "Requirement already satisfied: protobuf<5.0.dev0,>=4.21.6 in /Library/Frameworks/Python.framework/Versions/3.12/lib/python3.12/site-packages (from py-nillion-client==0.6.0) (4.25.4)\n",
      "\n",
      "\u001b[1m[\u001b[0m\u001b[34;49mnotice\u001b[0m\u001b[1;39;49m]\u001b[0m\u001b[39;49m A new release of pip is available: \u001b[0m\u001b[31;49m24.0\u001b[0m\u001b[39;49m -> \u001b[0m\u001b[32;49m24.2\u001b[0m\n",
      "\u001b[1m[\u001b[0m\u001b[34;49mnotice\u001b[0m\u001b[1;39;49m]\u001b[0m\u001b[39;49m To update, run: \u001b[0m\u001b[32;49mpip3 install --upgrade pip\u001b[0m\n",
      "Note: you may need to restart the kernel to use updated packages.\n",
      "Requirement already satisfied: nillion-python-helpers==0.2.3 in /Library/Frameworks/Python.framework/Versions/3.12/lib/python3.12/site-packages (0.2.3)\n",
      "Requirement already satisfied: cosmpy<0.10.0,>=0.9.2 in /Library/Frameworks/Python.framework/Versions/3.12/lib/python3.12/site-packages (from nillion-python-helpers==0.2.3) (0.9.2)\n",
      "Requirement already satisfied: pytest-asyncio<0.24.0,>=0.23.7 in /Library/Frameworks/Python.framework/Versions/3.12/lib/python3.12/site-packages (from nillion-python-helpers==0.2.3) (0.23.8)\n",
      "Requirement already satisfied: python-dotenv==1.0.0 in /Library/Frameworks/Python.framework/Versions/3.12/lib/python3.12/site-packages (from nillion-python-helpers==0.2.3) (1.0.0)\n",
      "Requirement already satisfied: bech32 in /Library/Frameworks/Python.framework/Versions/3.12/lib/python3.12/site-packages (from cosmpy<0.10.0,>=0.9.2->nillion-python-helpers==0.2.3) (1.2.0)\n",
      "Requirement already satisfied: ecdsa in /Library/Frameworks/Python.framework/Versions/3.12/lib/python3.12/site-packages (from cosmpy<0.10.0,>=0.9.2->nillion-python-helpers==0.2.3) (0.19.0)\n",
      "Requirement already satisfied: googleapis-common-protos in /Library/Frameworks/Python.framework/Versions/3.12/lib/python3.12/site-packages (from cosmpy<0.10.0,>=0.9.2->nillion-python-helpers==0.2.3) (1.65.0)\n",
      "Requirement already satisfied: grpcio in /Library/Frameworks/Python.framework/Versions/3.12/lib/python3.12/site-packages (from cosmpy<0.10.0,>=0.9.2->nillion-python-helpers==0.2.3) (1.66.1)\n",
      "Requirement already satisfied: jsonschema<5,>=3.2.0 in /Library/Frameworks/Python.framework/Versions/3.12/lib/python3.12/site-packages (from cosmpy<0.10.0,>=0.9.2->nillion-python-helpers==0.2.3) (4.23.0)\n",
      "Requirement already satisfied: protobuf<5.0dev,>=4.21.6 in /Library/Frameworks/Python.framework/Versions/3.12/lib/python3.12/site-packages (from cosmpy<0.10.0,>=0.9.2->nillion-python-helpers==0.2.3) (4.25.4)\n",
      "Requirement already satisfied: pycryptodome<4.0.0,>=3.18.0 in /Library/Frameworks/Python.framework/Versions/3.12/lib/python3.12/site-packages (from cosmpy<0.10.0,>=0.9.2->nillion-python-helpers==0.2.3) (3.20.0)\n",
      "Requirement already satisfied: python-dateutil in /Users/aisha/Library/Python/3.12/lib/python/site-packages (from cosmpy<0.10.0,>=0.9.2->nillion-python-helpers==0.2.3) (2.9.0.post0)\n",
      "Requirement already satisfied: requests in /Library/Frameworks/Python.framework/Versions/3.12/lib/python3.12/site-packages (from cosmpy<0.10.0,>=0.9.2->nillion-python-helpers==0.2.3) (2.32.3)\n",
      "Requirement already satisfied: pytest<9,>=7.0.0 in /Library/Frameworks/Python.framework/Versions/3.12/lib/python3.12/site-packages (from pytest-asyncio<0.24.0,>=0.23.7->nillion-python-helpers==0.2.3) (8.3.2)\n",
      "Requirement already satisfied: attrs>=22.2.0 in /Library/Frameworks/Python.framework/Versions/3.12/lib/python3.12/site-packages (from jsonschema<5,>=3.2.0->cosmpy<0.10.0,>=0.9.2->nillion-python-helpers==0.2.3) (24.2.0)\n",
      "Requirement already satisfied: jsonschema-specifications>=2023.03.6 in /Library/Frameworks/Python.framework/Versions/3.12/lib/python3.12/site-packages (from jsonschema<5,>=3.2.0->cosmpy<0.10.0,>=0.9.2->nillion-python-helpers==0.2.3) (2023.12.1)\n",
      "Requirement already satisfied: referencing>=0.28.4 in /Library/Frameworks/Python.framework/Versions/3.12/lib/python3.12/site-packages (from jsonschema<5,>=3.2.0->cosmpy<0.10.0,>=0.9.2->nillion-python-helpers==0.2.3) (0.35.1)\n",
      "Requirement already satisfied: rpds-py>=0.7.1 in /Library/Frameworks/Python.framework/Versions/3.12/lib/python3.12/site-packages (from jsonschema<5,>=3.2.0->cosmpy<0.10.0,>=0.9.2->nillion-python-helpers==0.2.3) (0.20.0)\n",
      "Requirement already satisfied: iniconfig in /Library/Frameworks/Python.framework/Versions/3.12/lib/python3.12/site-packages (from pytest<9,>=7.0.0->pytest-asyncio<0.24.0,>=0.23.7->nillion-python-helpers==0.2.3) (2.0.0)\n",
      "Requirement already satisfied: packaging in /Users/aisha/Library/Python/3.12/lib/python/site-packages (from pytest<9,>=7.0.0->pytest-asyncio<0.24.0,>=0.23.7->nillion-python-helpers==0.2.3) (24.1)\n",
      "Requirement already satisfied: pluggy<2,>=1.5 in /Library/Frameworks/Python.framework/Versions/3.12/lib/python3.12/site-packages (from pytest<9,>=7.0.0->pytest-asyncio<0.24.0,>=0.23.7->nillion-python-helpers==0.2.3) (1.5.0)\n",
      "Requirement already satisfied: six>=1.9.0 in /Users/aisha/Library/Python/3.12/lib/python/site-packages (from ecdsa->cosmpy<0.10.0,>=0.9.2->nillion-python-helpers==0.2.3) (1.16.0)\n",
      "Requirement already satisfied: charset-normalizer<4,>=2 in /Library/Frameworks/Python.framework/Versions/3.12/lib/python3.12/site-packages (from requests->cosmpy<0.10.0,>=0.9.2->nillion-python-helpers==0.2.3) (3.3.2)\n",
      "Requirement already satisfied: idna<4,>=2.5 in /Library/Frameworks/Python.framework/Versions/3.12/lib/python3.12/site-packages (from requests->cosmpy<0.10.0,>=0.9.2->nillion-python-helpers==0.2.3) (3.8)\n",
      "Requirement already satisfied: urllib3<3,>=1.21.1 in /Library/Frameworks/Python.framework/Versions/3.12/lib/python3.12/site-packages (from requests->cosmpy<0.10.0,>=0.9.2->nillion-python-helpers==0.2.3) (2.2.2)\n",
      "Requirement already satisfied: certifi>=2017.4.17 in /Library/Frameworks/Python.framework/Versions/3.12/lib/python3.12/site-packages (from requests->cosmpy<0.10.0,>=0.9.2->nillion-python-helpers==0.2.3) (2024.8.30)\n",
      "\n",
      "\u001b[1m[\u001b[0m\u001b[34;49mnotice\u001b[0m\u001b[1;39;49m]\u001b[0m\u001b[39;49m A new release of pip is available: \u001b[0m\u001b[31;49m24.0\u001b[0m\u001b[39;49m -> \u001b[0m\u001b[32;49m24.2\u001b[0m\n",
      "\u001b[1m[\u001b[0m\u001b[34;49mnotice\u001b[0m\u001b[1;39;49m]\u001b[0m\u001b[39;49m To update, run: \u001b[0m\u001b[32;49mpip3 install --upgrade pip\u001b[0m\n",
      "Note: you may need to restart the kernel to use updated packages.\n",
      "Requirement already satisfied: python-dotenv==1.0.0 in /Library/Frameworks/Python.framework/Versions/3.12/lib/python3.12/site-packages (1.0.0)\n",
      "\n",
      "\u001b[1m[\u001b[0m\u001b[34;49mnotice\u001b[0m\u001b[1;39;49m]\u001b[0m\u001b[39;49m A new release of pip is available: \u001b[0m\u001b[31;49m24.0\u001b[0m\u001b[39;49m -> \u001b[0m\u001b[32;49m24.2\u001b[0m\n",
      "\u001b[1m[\u001b[0m\u001b[34;49mnotice\u001b[0m\u001b[1;39;49m]\u001b[0m\u001b[39;49m To update, run: \u001b[0m\u001b[32;49mpip3 install --upgrade pip\u001b[0m\n",
      "Note: you may need to restart the kernel to use updated packages.\n"
     ]
    }
   ],
   "source": [
    "%pip install nada-dsl==0.6.0\n",
    "%pip install py-nillion-client==0.6.0\n",
    "%pip install nillion-python-helpers==0.2.3\n",
    "%pip install python-dotenv==1.0.0\n"
   ]
  },
  {
   "cell_type": "markdown",
   "metadata": {},
   "source": [
    "Import all necessary libraries"
   ]
  },
  {
   "cell_type": "code",
   "execution_count": 2,
   "metadata": {
    "ExecuteTime": {
     "end_time": "2024-08-09T23:28:05.762189Z",
     "start_time": "2024-08-09T23:28:05.723159Z"
    },
    "id": "EQCfD717Sb-M"
   },
   "outputs": [],
   "source": [
    "import py_nillion_client as nillion\n",
    "from py_nillion_client import NodeKey, UserKey\n",
    "from dotenv import load_dotenv\n",
    "from nillion_python_helpers import get_quote_and_pay, create_nillion_client, create_payments_config\n",
    "from cosmpy.aerial.client import LedgerClient\n",
    "from cosmpy.aerial.wallet import LocalWallet\n",
    "from cosmpy.crypto.keypairs import PrivateKey"
   ]
  },
  {
   "cell_type": "markdown",
   "metadata": {},
   "source": [
    "Load the environment variables from a Devnet .env file\n",
    "\n",
    "*Please make sure to replace the path with the correct path to your .env file*"
   ]
  },
  {
   "cell_type": "code",
   "execution_count": 3,
   "metadata": {
    "ExecuteTime": {
     "end_time": "2024-08-09T23:28:08.870617Z",
     "start_time": "2024-08-09T23:28:08.850035Z"
    },
    "colab": {
     "base_uri": "https://localhost:8080/"
    },
    "id": "XWsJmklOEeh1",
    "outputId": "fff3de58-4f50-4e09-99f9-d7b6cdb943ed"
   },
   "outputs": [
    {
     "name": "stdout",
     "output_type": "stream",
     "text": [
      "Loading environment variables from /Users/aisha/.config/nillion/nillion-devnet.env\n",
      "NILLION_CLUSTER_ID: 9e68173f-9c23-4acc-ba81-4f079b639964\n",
      "NILLION_BOOTNODE_MULTIADDRESS: /ip4/127.0.0.1/tcp/37939/p2p/12D3KooWMvw1hEqm7EWSDEyqTb6pNetUVkepahKY6hixuAuMZfJS\n",
      "NILLION_BOOTNODE_WEBSOCKET: /ip4/127.0.0.1/tcp/54936/ws/p2p/12D3KooWMvw1hEqm7EWSDEyqTb6pNetUVkepahKY6hixuAuMZfJS\n",
      "NILLION_NILCHAIN_CHAIN_ID: nillion-chain-devnet\n",
      "NILLION_NILCHAIN_JSON_RPC: http://127.0.0.1:48102\n",
      "NILLION_NILCHAIN_REST_API: http://localhost:26650\n",
      "NILLION_NILCHAIN_GRPC: localhost:26649\n",
      "NILLION_NILCHAIN_PRIVATE_KEY_0: 9a975f567428d054f2bf3092812e6c42f901ce07d9711bc77ee2cd81101f42c5\n",
      "NILLION_NILCHAIN_PRIVATE_KEY_1: 1e491133b9408b39572a29f91644873decea554224b20e2b0b923aeb860a1c18\n",
      "NILLION_NILCHAIN_PRIVATE_KEY_2: 980488572f235316cdb330191f8bafe4e635efbe88b3a40f5bee9bd21047c059\n",
      "NILLION_NILCHAIN_PRIVATE_KEY_3: 612bb5173dc60d9e91404fcc0d1f1847fb4459a7d5160d63d84e91aacbf2ab2f\n",
      "NILLION_NILCHAIN_PRIVATE_KEY_4: 04f5a984eeea9dce4e5e907da69c01a61568e3071b1a91cbed89225f9fd913b5\n",
      "NILLION_NILCHAIN_PRIVATE_KEY_5: 5f992c58921f4af83b4c6b650c4914626664cd02020577b0ada49cfa00d2c8a4\n",
      "NILLION_NILCHAIN_PRIVATE_KEY_6: 8f0297d3bb647eb59b95b29550b2aebbedd9be2c954b000e772efe8c9318a42d\n",
      "NILLION_NILCHAIN_PRIVATE_KEY_7: c395243df9bb68dc809668efe4125f0eb017771ed8e3747b8d6860551913fecb\n",
      "NILLION_NILCHAIN_PRIVATE_KEY_8: 4bb5eaa799e24ae2b48545c41331921afe7e6a8dd7a850f5fbeb20a8226664ec\n",
      "NILLION_NILCHAIN_PRIVATE_KEY_9: ef4b944d4fdb0077057925fe2dde365dfa2c83cf320463b14589feccd1b2b938\n"
     ]
    }
   ],
   "source": [
    "import os\n",
    "\n",
    "home_dir = os.path.expanduser(\"~\")\n",
    "env_path = os.path.join(home_dir, \".config\", \"nillion\", \"nillion-devnet.env\")\n",
    "\n",
    "print(f\"Loading environment variables from {env_path}\")\n",
    "\n",
    "load_dotenv(env_path)\n",
    "\n",
    "for key, value in os.environ.items():\n",
    "    if key.startswith(\"NILLION_\"):\n",
    "        print(f\"{key}: {value}\")"
   ]
  },
  {
   "cell_type": "markdown",
   "metadata": {},
   "source": [
    "Read in some basic Nillion network information from the environment. "
   ]
  },
  {
   "cell_type": "code",
   "execution_count": 4,
   "metadata": {
    "ExecuteTime": {
     "end_time": "2024-08-09T23:28:12.833625Z",
     "start_time": "2024-08-09T23:28:12.815576Z"
    }
   },
   "outputs": [
    {
     "name": "stdout",
     "output_type": "stream",
     "text": [
      "Cluster ID: 9e68173f-9c23-4acc-ba81-4f079b639964\n",
      "Chain ID: nillion-chain-devnet\n",
      "GRPC Endpoint: localhost:26649\n"
     ]
    }
   ],
   "source": [
    "cluster_id = os.getenv('NILLION_CLUSTER_ID')\n",
    "chain_id = os.getenv('NILLION_NILCHAIN_CHAIN_ID')\n",
    "grpc_endpoint = os.getenv('NILLION_NILCHAIN_GRPC')\n",
    "\n",
    "print(f\"Cluster ID: {cluster_id}\")\n",
    "print(f\"Chain ID: {chain_id}\")\n",
    "print(f\"GRPC Endpoint: {grpc_endpoint}\")"
   ]
  },
  {
   "cell_type": "markdown",
   "metadata": {},
   "source": [
    "Each actor will need its own node key so we define a utility function here."
   ]
  },
  {
   "cell_type": "code",
   "execution_count": 5,
   "metadata": {
    "ExecuteTime": {
     "end_time": "2024-08-09T23:28:16.326786Z",
     "start_time": "2024-08-09T23:28:16.320243Z"
    }
   },
   "outputs": [],
   "source": [
    "import uuid\n",
    "def gen_node_key():\n",
    "    return NodeKey.from_seed(uuid.uuid4().hex)"
   ]
  },
  {
   "cell_type": "markdown",
   "metadata": {},
   "source": [
    "Setup for the Monadic actor"
   ]
  },
  {
   "cell_type": "code",
   "execution_count": 6,
   "metadata": {
    "ExecuteTime": {
     "end_time": "2024-08-09T23:28:19.828183Z",
     "start_time": "2024-08-09T23:28:19.615786Z"
    }
   },
   "outputs": [],
   "source": [
    "monadic_seed = \"monadic_seed\"\n",
    "monadic_userkey = UserKey.from_seed(monadic_seed)\n",
    "monadic_client = create_nillion_client(monadic_userkey, gen_node_key())\n",
    "monadic_party_id = monadic_client.party_id\n",
    "monadic_user_id = monadic_client.user_id"
   ]
  },
  {
   "cell_type": "markdown",
   "metadata": {},
   "source": [
    "Setup for the Snipper actor"
   ]
  },
  {
   "cell_type": "code",
   "execution_count": 7,
   "metadata": {
    "ExecuteTime": {
     "end_time": "2024-08-09T23:28:22.512975Z",
     "start_time": "2024-08-09T23:28:22.489237Z"
    }
   },
   "outputs": [],
   "source": [
    "snipper_seed = \"snipper_seed\"\n",
    "snipper_userkey = UserKey.from_seed(snipper_seed)\n",
    "snipper_client = create_nillion_client(snipper_userkey, gen_node_key())\n",
    "snipper_party_id = snipper_client.party_id\n",
    "snipper_user_id = snipper_client.user_id"
   ]
  },
  {
   "cell_type": "markdown",
   "metadata": {},
   "source": [
    "Setup for the Patient actor"
   ]
  },
  {
   "cell_type": "code",
   "execution_count": 8,
   "metadata": {
    "ExecuteTime": {
     "end_time": "2024-08-09T23:28:28.760101Z",
     "start_time": "2024-08-09T23:28:28.734404Z"
    }
   },
   "outputs": [],
   "source": [
    "patient_seed = \"patient_seed\"\n",
    "patient_userkey = UserKey.from_seed(patient_seed)\n",
    "patient_client = create_nillion_client(patient_userkey, gen_node_key())\n",
    "patient_party_id = patient_client.party_id\n",
    "patient_user_id = patient_client.user_id"
   ]
  },
  {
   "cell_type": "markdown",
   "metadata": {},
   "source": [
    "Payments set up for all network actions"
   ]
  },
  {
   "cell_type": "code",
   "execution_count": 9,
   "metadata": {
    "ExecuteTime": {
     "end_time": "2024-08-09T23:28:31.282228Z",
     "start_time": "2024-08-09T23:28:31.238065Z"
    },
    "id": "pkaCYaErQ8kf"
   },
   "outputs": [],
   "source": [
    "payments_config = create_payments_config(chain_id, grpc_endpoint)\n",
    "payments_client = LedgerClient(payments_config)\n",
    "payments_wallet = LocalWallet(\n",
    "    PrivateKey(bytes.fromhex(os.getenv(\"NILLION_NILCHAIN_PRIVATE_KEY_0\"))),\n",
    "    prefix=\"nillion\",\n",
    ")"
   ]
  },
  {
   "cell_type": "markdown",
   "metadata": {},
   "source": [
    "Configuration for the program to use. Change the contents of the below cell to use another program. "
   ]
  },
  {
   "cell_type": "code",
   "execution_count": 10,
   "metadata": {
    "ExecuteTime": {
     "end_time": "2024-08-09T23:28:33.143041Z",
     "start_time": "2024-08-09T23:28:33.134076Z"
    },
    "id": "rEr0_JkMuVci"
   },
   "outputs": [],
   "source": [
    "program_name = \"double\"\n",
    "program_mir_path = f\"binaries/double.nada.bin\""
   ]
  },
  {
   "cell_type": "markdown",
   "metadata": {},
   "source": [
    "As a baseline, let's ensure that the user can store the program and run it on their own secret. "
   ]
  },
  {
   "cell_type": "code",
   "execution_count": 11,
   "metadata": {
    "ExecuteTime": {
     "end_time": "2024-08-09T23:28:41.524938Z",
     "start_time": "2024-08-09T23:28:35.164639Z"
    }
   },
   "outputs": [
    {
     "name": "stdout",
     "output_type": "stream",
     "text": [
      "The patient is storing the program on the network\n",
      "Getting quote for operation...\n",
      "Quote cost is 2 unil\n",
      "Submitting payment receipt 2 unil, tx hash D1584C1F65DAFA2701F73117E739E136C32A609AF6EF7FB43102E95337A98499\n",
      "Action ID: 229XQCZoSQk9zDx4ixKXg8wAqCy7HnmUjcTuMe7D1bUVhNG7kYNF4xeZYjRsEtJUhKFvXwfM65ixFWDRhptfHCqw/double\n",
      "The patient is storing a secret on the network\n",
      "Getting quote for operation...\n",
      "Quote cost is 482 unil\n",
      "Submitting payment receipt 482 unil, tx hash 8070A55743C4A1A3DA557B9D288FD964A6DA58D27E2F2DB973FFF938E8425FE6\n",
      "The patient is running the program on the secret..\n",
      "Getting quote for operation...\n",
      "Quote cost is 3 unil\n",
      "Submitting payment receipt 3 unil, tx hash 108432FF46244933B87378BBADE5F1F58F5E4CFA478F96B6DA8D8224A7288698\n",
      "The computation was sent to the network. compute_id: 9881886b-174a-4ea1-88b2-2f974e739cfd\n",
      "✅  Compute complete for compute_id 9881886b-174a-4ea1-88b2-2f974e739cfd\n",
      "🖥️  The result is {'my_output': 4}\n"
     ]
    }
   ],
   "source": [
    "import os\n",
    "\n",
    "os.environ['RUST_BACKTRACE'] = '1'\n",
    "\n",
    "print(\"The patient is storing the program on the network\")\n",
    "\n",
    "async def store_program():\n",
    "    receipt_store_program = await get_quote_and_pay(\n",
    "        patient_client,\n",
    "        nillion.Operation.store_program(program_mir_path),\n",
    "        payments_wallet,\n",
    "        payments_client,\n",
    "        cluster_id,\n",
    "    )\n",
    "\n",
    "    # Store the program\n",
    "    action_id = await patient_client.store_program(\n",
    "        cluster_id, program_name, program_mir_path, receipt_store_program\n",
    "    )\n",
    "    return action_id\n",
    "\n",
    "action_id = await store_program()\n",
    "print(f\"Action ID: {action_id}\")\n",
    "\n",
    "print(\"The patient is storing a secret on the network\")\n",
    "\n",
    "program_id = f\"{patient_user_id}/{program_name}\"\n",
    "\n",
    "new_secret = nillion.NadaValues(\n",
    "    {\n",
    "        \"foo\": nillion.SecretInteger(2),\n",
    "    }\n",
    ")\n",
    "\n",
    "# Set permissions for the client to compute on the program\n",
    "permissions = nillion.Permissions.default_for_user(patient_user_id)\n",
    "permissions.add_compute_permissions({patient_user_id: {program_id}})\n",
    "\n",
    "# Pay for and store the secret in the network and print the returned store_id\n",
    "receipt_store = await get_quote_and_pay(\n",
    "    patient_client,\n",
    "    nillion.Operation.store_values(new_secret, ttl_days=5),\n",
    "    payments_wallet,\n",
    "    payments_client,\n",
    "    cluster_id,\n",
    ")\n",
    "# Store a secret\n",
    "store_id = await patient_client.store_values(\n",
    "    cluster_id, new_secret, permissions, receipt_store\n",
    ")\n",
    "\n",
    "print(\"The patient is running the program on the secret..\")\n",
    "\n",
    "party_name = \"Party1\"\n",
    "compute_bindings = nillion.ProgramBindings(program_id)\n",
    "compute_bindings.add_input_party(party_name, patient_party_id)\n",
    "compute_bindings.add_output_party(party_name, patient_party_id)\n",
    "computation_time_secrets = nillion.NadaValues({})\n",
    "\n",
    "# Pay for the compute\n",
    "receipt_compute = await get_quote_and_pay(\n",
    "    patient_client,\n",
    "    nillion.Operation.compute(program_id, computation_time_secrets),\n",
    "    payments_wallet,\n",
    "    payments_client,\n",
    "    cluster_id,\n",
    ")\n",
    "\n",
    "# Compute on the secret\n",
    "compute_id = await patient_client.compute(\n",
    "    cluster_id,\n",
    "    compute_bindings,\n",
    "    [store_id],\n",
    "    computation_time_secrets,\n",
    "    receipt_compute,\n",
    ")\n",
    "\n",
    "# 8. Return the computation result\n",
    "print(f\"The computation was sent to the network. compute_id: {compute_id}\")\n",
    "while True:\n",
    "    compute_event = await patient_client.next_compute_event()\n",
    "    if isinstance(compute_event, nillion.ComputeFinishedEvent):\n",
    "        print(f\"✅  Compute complete for compute_id {compute_event.uuid}\")\n",
    "        print(f\"🖥️  The result is {compute_event.result.value}\")\n",
    "        break"
   ]
  },
  {
   "cell_type": "markdown",
   "metadata": {},
   "source": [
    "Have Monadic store the program on the network\n",
    "\n",
    "TODO: Also have Snipper save the program and replicate the computation"
   ]
  },
  {
   "cell_type": "code",
   "execution_count": 12,
   "metadata": {
    "ExecuteTime": {
     "end_time": "2024-08-09T23:28:49.395066Z",
     "start_time": "2024-08-09T23:28:47.351151Z"
    },
    "colab": {
     "base_uri": "https://localhost:8080/",
     "height": 211
    },
    "id": "wgS0N715Qid2",
    "outputId": "eb833ff1-b29c-492b-b3c4-271a08a86b51"
   },
   "outputs": [
    {
     "name": "stdout",
     "output_type": "stream",
     "text": [
      "Getting quote for operation...\n",
      "Quote cost is 2 unil\n",
      "Submitting payment receipt 2 unil, tx hash 0A2FBDA6C851AB4319E6E3A8B0D4B015E6E95044CD29C1D0DCC75EAEA8429570\n",
      "Action ID: 3Uaays4LAuJ7QGbAC94etCHAr1dzt9NBnX4Q3QMY16cpJNYstDNBv6efyrgGeKfBAemaECUCxApThCfLxcmJbAPj/double\n"
     ]
    }
   ],
   "source": [
    "async def store_program():\n",
    "    receipt_store_program = await get_quote_and_pay(\n",
    "        monadic_client,\n",
    "        nillion.Operation.store_program(program_mir_path),\n",
    "        payments_wallet,\n",
    "        payments_client,\n",
    "        cluster_id,\n",
    "    )\n",
    "\n",
    "    # Store the program\n",
    "    action_id = await monadic_client.store_program(\n",
    "        cluster_id, program_name, program_mir_path, receipt_store_program\n",
    "    )\n",
    "    return action_id\n",
    "\n",
    "# Use this in your Jupyter notebook cell\n",
    "action_id = await store_program()\n",
    "print(f\"Action ID: {action_id}\")\n",
    "\n"
   ]
  },
  {
   "cell_type": "markdown",
   "metadata": {},
   "source": [
    "Have the Patient store a secret on the network such that:\n",
    "- The Patient has all the regular persmissions\n",
    "- Monadic is able to modify permissions and compute on the secret\n",
    "- Snipper is able to compute on the secret\n",
    "\n",
    "TODO: Establish a chain by having Monadic actually assign compute access to Snipper"
   ]
  },
  {
   "cell_type": "code",
   "execution_count": 13,
   "metadata": {
    "ExecuteTime": {
     "end_time": "2024-08-09T23:28:54.210051Z",
     "start_time": "2024-08-09T23:28:52.165103Z"
    }
   },
   "outputs": [
    {
     "name": "stdout",
     "output_type": "stream",
     "text": [
      "Getting quote for operation...\n",
      "Quote cost is 482 unil\n",
      "Submitting payment receipt 482 unil, tx hash 61F8428B0BA42AE5B1D62C5588EC1055A556DD14E116ECD5EBD56A838720B5F8\n"
     ]
    }
   ],
   "source": [
    "program_id = f\"{monadic_user_id}/{program_name}\"\n",
    "\n",
    "new_secret = nillion.NadaValues(\n",
    "    {\n",
    "        \"foo\": nillion.SecretInteger(2),\n",
    "    }\n",
    ")\n",
    "\n",
    "# Set permissions for the client to compute on the program\n",
    "permissions = nillion.Permissions.default_for_user(patient_user_id)\n",
    "permissions.add_update_permissions(set([monadic_user_id]))\n",
    "permissions.add_compute_permissions({monadic_user_id: {program_id}})\n",
    "permissions.add_compute_permissions({snipper_user_id: {program_id}})\n",
    "\n",
    "# Pay for and store the secret in the network and print the returned store_id\n",
    "receipt_store = await get_quote_and_pay(\n",
    "    patient_client,\n",
    "    nillion.Operation.store_values(new_secret, ttl_days=5),\n",
    "    payments_wallet,\n",
    "    payments_client,\n",
    "    cluster_id,\n",
    ")\n",
    "# Store a secret\n",
    "store_id = await patient_client.store_values(\n",
    "    cluster_id, new_secret, permissions, receipt_store\n",
    ")"
   ]
  },
  {
   "cell_type": "markdown",
   "metadata": {},
   "source": [
    "Have Monadic run the stored program on the stored secret\n",
    "\n",
    "TODO: Have Snipper run the stored program on the stored secret"
   ]
  },
  {
   "cell_type": "code",
   "execution_count": 14,
   "metadata": {
    "ExecuteTime": {
     "end_time": "2024-08-09T23:28:59.264419Z",
     "start_time": "2024-08-09T23:28:57.193511Z"
    }
   },
   "outputs": [
    {
     "name": "stdout",
     "output_type": "stream",
     "text": [
      "Getting quote for operation...\n",
      "Quote cost is 3 unil\n",
      "Submitting payment receipt 3 unil, tx hash B6291177FFAC17961AE56CABFE813944EB3142AA184B1778A41884FA4CA2FC34\n",
      "The computation was sent to the network. compute_id: 0c211b76-5f39-44ad-ae64-029a7547a22e\n",
      "✅  Compute complete for compute_id 0c211b76-5f39-44ad-ae64-029a7547a22e\n",
      "🖥️  The result is {'my_output': 4}\n"
     ]
    }
   ],
   "source": [
    "import os\n",
    "\n",
    "os.environ['RUST_BACKTRACE'] = 'full'\n",
    "\n",
    "party_name = \"Party1\"\n",
    "compute_bindings = nillion.ProgramBindings(program_id)\n",
    "compute_bindings.add_input_party(party_name, monadic_party_id)\n",
    "compute_bindings.add_output_party(party_name, monadic_party_id)\n",
    "\n",
    "computation_time_secrets = nillion.NadaValues({})\n",
    "\n",
    "# Pay for the compute\n",
    "receipt_compute = await get_quote_and_pay(\n",
    "    monadic_client,\n",
    "    nillion.Operation.compute(program_id, computation_time_secrets),\n",
    "    payments_wallet,\n",
    "    payments_client,\n",
    "    cluster_id,\n",
    ")\n",
    "\n",
    "# Compute on the secret\n",
    "compute_id = await monadic_client.compute(\n",
    "    cluster_id,\n",
    "    compute_bindings,\n",
    "    [store_id],\n",
    "    computation_time_secrets,\n",
    "    receipt_compute,\n",
    ")\n",
    "\n",
    "# 8. Return the computation result\n",
    "print(f\"The computation was sent to the network. compute_id: {compute_id}\")\n",
    "while True:\n",
    "    compute_event = await monadic_client.next_compute_event()\n",
    "    if isinstance(compute_event, nillion.ComputeFinishedEvent):\n",
    "        print(f\"✅  Compute complete for compute_id {compute_event.uuid}\")\n",
    "        print(f\"🖥️  The result is {compute_event.result.value}\")\n",
    "        break"
   ]
  },
  {
   "cell_type": "markdown",
   "metadata": {},
   "source": [
    "Now have Snipper run the program"
   ]
  },
  {
   "cell_type": "code",
   "execution_count": 15,
   "metadata": {
    "ExecuteTime": {
     "end_time": "2024-08-09T23:41:25.749809Z",
     "start_time": "2024-08-09T23:41:23.044687Z"
    }
   },
   "outputs": [
    {
     "name": "stdout",
     "output_type": "stream",
     "text": [
      "Getting quote for operation...\n",
      "Quote cost is 3 unil\n",
      "Submitting payment receipt 3 unil, tx hash 71D060161BA2A3BCB88FD17F5BF5DE4F25BEC8BDD55C0D81EC847894C7F6308B\n",
      "The computation was sent to the network. compute_id: 9382e2cb-ba4d-409e-a839-2efe38580052\n",
      "✅  Compute complete for compute_id 9382e2cb-ba4d-409e-a839-2efe38580052\n",
      "🖥️  The result is {'my_output': 4}\n"
     ]
    }
   ],
   "source": [
    "party_name = \"Party1\"\n",
    "compute_bindings = nillion.ProgramBindings(program_id)\n",
    "compute_bindings.add_input_party(party_name, snipper_party_id)\n",
    "compute_bindings.add_output_party(party_name, snipper_party_id)\n",
    "\n",
    "computation_time_secrets = nillion.NadaValues({})\n",
    "\n",
    "# Pay for the compute\n",
    "receipt_compute = await get_quote_and_pay(\n",
    "    snipper_client,\n",
    "    nillion.Operation.compute(program_id, computation_time_secrets),\n",
    "    payments_wallet,\n",
    "    payments_client,\n",
    "    cluster_id,\n",
    ")\n",
    "\n",
    "# Compute on the secret\n",
    "compute_id = await snipper_client.compute(\n",
    "    cluster_id,\n",
    "    compute_bindings,\n",
    "    [store_id],\n",
    "    computation_time_secrets,\n",
    "    receipt_compute,\n",
    ")\n",
    "\n",
    "# 8. Return the computation result\n",
    "print(f\"The computation was sent to the network. compute_id: {compute_id}\")\n",
    "while True:\n",
    "    compute_event = await snipper_client.next_compute_event()\n",
    "    if isinstance(compute_event, nillion.ComputeFinishedEvent):\n",
    "        print(f\"✅  Compute complete for compute_id {compute_event.uuid}\")\n",
    "        print(f\"🖥️  The result is {compute_event.result.value}\")\n",
    "        break"
   ]
  },
  {
   "cell_type": "code",
   "execution_count": null,
   "metadata": {},
   "outputs": [],
   "source": []
  }
 ],
 "metadata": {
  "colab": {
   "provenance": []
  },
  "kernelspec": {
   "display_name": "Python 3 (ipykernel)",
   "language": "python",
   "name": "python3"
  },
  "language_info": {
   "codemirror_mode": {
    "name": "ipython",
    "version": 3
   },
   "file_extension": ".py",
   "mimetype": "text/x-python",
   "name": "python",
   "nbconvert_exporter": "python",
   "pygments_lexer": "ipython3",
   "version": "3.12.2"
  }
 },
 "nbformat": 4,
 "nbformat_minor": 0
}
